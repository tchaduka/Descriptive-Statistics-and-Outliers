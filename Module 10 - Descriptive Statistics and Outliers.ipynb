{
 "cells": [
  {
   "cell_type": "markdown",
   "id": "a912cedd",
   "metadata": {},
   "source": [
    "# Module 10: Descriptive Statistics and Outliers\n",
    "***\n",
    "\n",
    "## What are statistics?\n",
    "\n",
    "Statistics deal with collecting informative data, interpreting these data, and drawing conclusions about the data. Statistics are used across multiple disciplines and fuel business and policy decisions.\n",
    "\n",
    "## Two types of statistics\n",
    "***\n",
    "#### Descriptive Statistics\n",
    "Descriptive statistics use numeric and graphical techniques to summarize the characteristics of a set of data and to identify patterns within the dataset. Descriptive statistics also include graphically summarizing data and presenting the information in a meaningful (easy to interpret) way. \n",
    "\n",
    "#### Inferential Statistics\n",
    "Inferential statistics use samples of data to make generalizations about a larger set of data (or a larger population). Inferential statistics use data to make estimates, decisions, and predictions about patterns and trends identified within a set of data. Inferential statistics are used to make conclusions beyond your immediate set of data. "
   ]
  },
  {
   "cell_type": "markdown",
   "id": "e9e11e6c",
   "metadata": {},
   "source": [
    "## Import Libraries and Data"
   ]
  },
  {
   "cell_type": "code",
   "execution_count": 3,
   "id": "aec4bc2e",
   "metadata": {},
   "outputs": [
    {
     "data": {
      "text/html": [
       "<div>\n",
       "<style scoped>\n",
       "    .dataframe tbody tr th:only-of-type {\n",
       "        vertical-align: middle;\n",
       "    }\n",
       "\n",
       "    .dataframe tbody tr th {\n",
       "        vertical-align: top;\n",
       "    }\n",
       "\n",
       "    .dataframe thead th {\n",
       "        text-align: right;\n",
       "    }\n",
       "</style>\n",
       "<table border=\"1\" class=\"dataframe\">\n",
       "  <thead>\n",
       "    <tr style=\"text-align: right;\">\n",
       "      <th></th>\n",
       "      <th>Fname</th>\n",
       "      <th>Lname</th>\n",
       "      <th>Position</th>\n",
       "      <th>Gender</th>\n",
       "      <th>Hours Worked</th>\n",
       "      <th>SalesTraining</th>\n",
       "      <th>Years Experience</th>\n",
       "      <th>Cars Sold</th>\n",
       "    </tr>\n",
       "  </thead>\n",
       "  <tbody>\n",
       "    <tr>\n",
       "      <th>0</th>\n",
       "      <td>Jackie</td>\n",
       "      <td>Jackson</td>\n",
       "      <td>Trainee</td>\n",
       "      <td>F</td>\n",
       "      <td>32</td>\n",
       "      <td>Y</td>\n",
       "      <td>1</td>\n",
       "      <td>3</td>\n",
       "    </tr>\n",
       "    <tr>\n",
       "      <th>1</th>\n",
       "      <td>Mary</td>\n",
       "      <td>Patterson</td>\n",
       "      <td>Trainee</td>\n",
       "      <td>F</td>\n",
       "      <td>43</td>\n",
       "      <td>N</td>\n",
       "      <td>1</td>\n",
       "      <td>6</td>\n",
       "    </tr>\n",
       "    <tr>\n",
       "      <th>2</th>\n",
       "      <td>Tanya</td>\n",
       "      <td>Adams</td>\n",
       "      <td>Trainee</td>\n",
       "      <td>F</td>\n",
       "      <td>28</td>\n",
       "      <td>Y</td>\n",
       "      <td>1</td>\n",
       "      <td>2</td>\n",
       "    </tr>\n",
       "    <tr>\n",
       "      <th>3</th>\n",
       "      <td>Tanya</td>\n",
       "      <td>Henderson</td>\n",
       "      <td>Trainee</td>\n",
       "      <td>F</td>\n",
       "      <td>24</td>\n",
       "      <td>Y</td>\n",
       "      <td>1</td>\n",
       "      <td>5</td>\n",
       "    </tr>\n",
       "    <tr>\n",
       "      <th>4</th>\n",
       "      <td>Walter</td>\n",
       "      <td>Franklin</td>\n",
       "      <td>Trainee</td>\n",
       "      <td>M</td>\n",
       "      <td>25</td>\n",
       "      <td>Y</td>\n",
       "      <td>1</td>\n",
       "      <td>4</td>\n",
       "    </tr>\n",
       "  </tbody>\n",
       "</table>\n",
       "</div>"
      ],
      "text/plain": [
       "    Fname      Lname Position Gender  Hours Worked SalesTraining  \\\n",
       "0  Jackie    Jackson  Trainee      F            32             Y   \n",
       "1    Mary  Patterson  Trainee      F            43             N   \n",
       "2   Tanya      Adams  Trainee      F            28             Y   \n",
       "3   Tanya  Henderson  Trainee      F            24             Y   \n",
       "4  Walter   Franklin  Trainee      M            25             Y   \n",
       "\n",
       "   Years Experience  Cars Sold  \n",
       "0                 1          3  \n",
       "1                 1          6  \n",
       "2                 1          2  \n",
       "3                 1          5  \n",
       "4                 1          4  "
      ]
     },
     "execution_count": 3,
     "metadata": {},
     "output_type": "execute_result"
    }
   ],
   "source": [
    "import pandas as pd\n",
    "import numpy as np\n",
    "import scipy.stats as stats ## new library alert! ##\n",
    "\n",
    "## SciPy is used for scientific and mathematic computing; it provides functions for stats, \n",
    "# data manipulation, and data visualization\n",
    "\n",
    "df = pd.read_excel(\"axisdata.xlsx\")\n",
    "\n",
    "df.head()"
   ]
  },
  {
   "cell_type": "code",
   "execution_count": 4,
   "id": "793743a9",
   "metadata": {},
   "outputs": [
    {
     "name": "stdout",
     "output_type": "stream",
     "text": [
      "<class 'pandas.core.frame.DataFrame'>\n",
      "RangeIndex: 999 entries, 0 to 998\n",
      "Data columns (total 8 columns):\n",
      " #   Column            Non-Null Count  Dtype \n",
      "---  ------            --------------  ----- \n",
      " 0   Fname             999 non-null    object\n",
      " 1   Lname             999 non-null    object\n",
      " 2   Position          999 non-null    object\n",
      " 3   Gender            999 non-null    object\n",
      " 4   Hours Worked      999 non-null    int64 \n",
      " 5   SalesTraining     999 non-null    object\n",
      " 6   Years Experience  999 non-null    int64 \n",
      " 7   Cars Sold         999 non-null    int64 \n",
      "dtypes: int64(3), object(5)\n",
      "memory usage: 62.6+ KB\n"
     ]
    }
   ],
   "source": [
    "df.info()"
   ]
  },
  {
   "cell_type": "markdown",
   "id": "74df32f8",
   "metadata": {},
   "source": [
    "## Qualitative vs Quantitative Data\n",
    "***\n",
    "\n",
    "#### Quantitative Data\n",
    "Data that are recorded on a numeric scale (i.e. age, weight, salary, number of empty seats on a plane, credit score etc). Quantitative variables are also called <b>numeric</b> variables. \n",
    "\n",
    "#### Qualitative Data\n",
    "Data that cannot be measured on a numeric scale (i.e. eye color, type of car, blood type, race etc). These data can only be classified into one group of categories. Qualitative variables are also called <b>categorical</b> variables. Qualitative data also includes text and string data. "
   ]
  },
  {
   "cell_type": "code",
   "execution_count": 5,
   "id": "3d59351d",
   "metadata": {},
   "outputs": [
    {
     "data": {
      "text/html": [
       "<div>\n",
       "<style scoped>\n",
       "    .dataframe tbody tr th:only-of-type {\n",
       "        vertical-align: middle;\n",
       "    }\n",
       "\n",
       "    .dataframe tbody tr th {\n",
       "        vertical-align: top;\n",
       "    }\n",
       "\n",
       "    .dataframe thead th {\n",
       "        text-align: right;\n",
       "    }\n",
       "</style>\n",
       "<table border=\"1\" class=\"dataframe\">\n",
       "  <thead>\n",
       "    <tr style=\"text-align: right;\">\n",
       "      <th></th>\n",
       "      <th>Fname</th>\n",
       "      <th>Lname</th>\n",
       "      <th>Position</th>\n",
       "      <th>Gender</th>\n",
       "      <th>Hours Worked</th>\n",
       "      <th>SalesTraining</th>\n",
       "      <th>Years Experience</th>\n",
       "      <th>Cars Sold</th>\n",
       "    </tr>\n",
       "  </thead>\n",
       "  <tbody>\n",
       "    <tr>\n",
       "      <th>0</th>\n",
       "      <td>Jackie</td>\n",
       "      <td>Jackson</td>\n",
       "      <td>Trainee</td>\n",
       "      <td>F</td>\n",
       "      <td>32</td>\n",
       "      <td>Y</td>\n",
       "      <td>1</td>\n",
       "      <td>3</td>\n",
       "    </tr>\n",
       "    <tr>\n",
       "      <th>1</th>\n",
       "      <td>Mary</td>\n",
       "      <td>Patterson</td>\n",
       "      <td>Trainee</td>\n",
       "      <td>F</td>\n",
       "      <td>43</td>\n",
       "      <td>N</td>\n",
       "      <td>1</td>\n",
       "      <td>6</td>\n",
       "    </tr>\n",
       "    <tr>\n",
       "      <th>2</th>\n",
       "      <td>Tanya</td>\n",
       "      <td>Adams</td>\n",
       "      <td>Trainee</td>\n",
       "      <td>F</td>\n",
       "      <td>28</td>\n",
       "      <td>Y</td>\n",
       "      <td>1</td>\n",
       "      <td>2</td>\n",
       "    </tr>\n",
       "    <tr>\n",
       "      <th>3</th>\n",
       "      <td>Tanya</td>\n",
       "      <td>Henderson</td>\n",
       "      <td>Trainee</td>\n",
       "      <td>F</td>\n",
       "      <td>24</td>\n",
       "      <td>Y</td>\n",
       "      <td>1</td>\n",
       "      <td>5</td>\n",
       "    </tr>\n",
       "    <tr>\n",
       "      <th>4</th>\n",
       "      <td>Walter</td>\n",
       "      <td>Franklin</td>\n",
       "      <td>Trainee</td>\n",
       "      <td>M</td>\n",
       "      <td>25</td>\n",
       "      <td>Y</td>\n",
       "      <td>1</td>\n",
       "      <td>4</td>\n",
       "    </tr>\n",
       "  </tbody>\n",
       "</table>\n",
       "</div>"
      ],
      "text/plain": [
       "    Fname      Lname Position Gender  Hours Worked SalesTraining  \\\n",
       "0  Jackie    Jackson  Trainee      F            32             Y   \n",
       "1    Mary  Patterson  Trainee      F            43             N   \n",
       "2   Tanya      Adams  Trainee      F            28             Y   \n",
       "3   Tanya  Henderson  Trainee      F            24             Y   \n",
       "4  Walter   Franklin  Trainee      M            25             Y   \n",
       "\n",
       "   Years Experience  Cars Sold  \n",
       "0                 1          3  \n",
       "1                 1          6  \n",
       "2                 1          2  \n",
       "3                 1          5  \n",
       "4                 1          4  "
      ]
     },
     "execution_count": 5,
     "metadata": {},
     "output_type": "execute_result"
    }
   ],
   "source": [
    "## Which variables are qualitative and which variables are quantitative?\n",
    "\n",
    "df.head()"
   ]
  },
  {
   "cell_type": "markdown",
   "id": "50d91d6d",
   "metadata": {},
   "source": [
    "## Describing Qualitative Data\n",
    "***\n",
    "\n",
    "Qualitative data is best summarized by frequency tables. \n",
    "\n",
    "Frequency tables summarize categorical data into a table showing each category, number of observations that fall within each category, and the relative frequency of each category. \n",
    "\n",
    "Relative frequency is the number of specific observations out of the total number of observations, or the percentage of the total sample that fall within a specific group. Both representations of categorical data give insight into how common specific categories are within a set of data. \n",
    "\n",
    "<b>Bar charts</b> are ideal for graphically representing qualitative data as they visually show the frequency of observations across various groups. \n",
    "\n",
    "#### GRAPHIC SHOULD READ N = 150 !!!\n",
    "\n",
    "<img src=\"FreqTable.png\">"
   ]
  },
  {
   "cell_type": "code",
   "execution_count": 6,
   "id": "3e690da0",
   "metadata": {},
   "outputs": [
    {
     "data": {
      "text/plain": [
       "M    510\n",
       "F    489\n",
       "Name: Gender, dtype: int64"
      ]
     },
     "execution_count": 6,
     "metadata": {},
     "output_type": "execute_result"
    }
   ],
   "source": [
    "## Frequencies \n",
    "\n",
    "df[\"Gender\"].value_counts()"
   ]
  },
  {
   "cell_type": "code",
   "execution_count": 7,
   "id": "16935be4",
   "metadata": {},
   "outputs": [
    {
     "data": {
      "text/plain": [
       "M    0.510511\n",
       "F    0.489489\n",
       "Name: Gender, dtype: float64"
      ]
     },
     "execution_count": 7,
     "metadata": {},
     "output_type": "execute_result"
    }
   ],
   "source": [
    "## Relative Frequencies \n",
    "\n",
    "df[\"Gender\"].value_counts(normalize=True)"
   ]
  },
  {
   "cell_type": "code",
   "execution_count": 8,
   "id": "cf057364",
   "metadata": {},
   "outputs": [
    {
     "data": {
      "text/html": [
       "<div>\n",
       "<style scoped>\n",
       "    .dataframe tbody tr th:only-of-type {\n",
       "        vertical-align: middle;\n",
       "    }\n",
       "\n",
       "    .dataframe tbody tr th {\n",
       "        vertical-align: top;\n",
       "    }\n",
       "\n",
       "    .dataframe thead th {\n",
       "        text-align: right;\n",
       "    }\n",
       "</style>\n",
       "<table border=\"1\" class=\"dataframe\">\n",
       "  <thead>\n",
       "    <tr style=\"text-align: right;\">\n",
       "      <th>SalesTraining</th>\n",
       "      <th>N</th>\n",
       "      <th>Y</th>\n",
       "    </tr>\n",
       "    <tr>\n",
       "      <th>Gender</th>\n",
       "      <th></th>\n",
       "      <th></th>\n",
       "    </tr>\n",
       "  </thead>\n",
       "  <tbody>\n",
       "    <tr>\n",
       "      <th>F</th>\n",
       "      <td>212</td>\n",
       "      <td>277</td>\n",
       "    </tr>\n",
       "    <tr>\n",
       "      <th>M</th>\n",
       "      <td>201</td>\n",
       "      <td>309</td>\n",
       "    </tr>\n",
       "  </tbody>\n",
       "</table>\n",
       "</div>"
      ],
      "text/plain": [
       "SalesTraining    N    Y\n",
       "Gender                 \n",
       "F              212  277\n",
       "M              201  309"
      ]
     },
     "execution_count": 8,
     "metadata": {},
     "output_type": "execute_result"
    }
   ],
   "source": [
    "## Multi-variable Frequencies \n",
    "\n",
    "pd.crosstab(df[\"Gender\"], df[\"SalesTraining\"], margins=False, normalize=False)"
   ]
  },
  {
   "cell_type": "markdown",
   "id": "a409e75f",
   "metadata": {},
   "source": [
    "# { Exercise 1 }\n",
    "\n",
    "    1. Import the \"pokemon.csv\" file; name the dataset 'poke'. Preview the first 5 rows. \n",
    "    2. Determine the frequencies of unique pokemon types (variable name: Type 1) in this dataset\n",
    "    3. Determine the relative frequencies of the unique pokemon types (variable name: Type 1) in this dataset\n",
    "    4. Create a crosstabs table that shows the frequency of pokemon stage (variable name: Stage) and legendary status (variable name: Legendary). "
   ]
  },
  {
   "cell_type": "code",
   "execution_count": 9,
   "id": "77110b4a",
   "metadata": {},
   "outputs": [
    {
     "data": {
      "text/html": [
       "<div>\n",
       "<style scoped>\n",
       "    .dataframe tbody tr th:only-of-type {\n",
       "        vertical-align: middle;\n",
       "    }\n",
       "\n",
       "    .dataframe tbody tr th {\n",
       "        vertical-align: top;\n",
       "    }\n",
       "\n",
       "    .dataframe thead th {\n",
       "        text-align: right;\n",
       "    }\n",
       "</style>\n",
       "<table border=\"1\" class=\"dataframe\">\n",
       "  <thead>\n",
       "    <tr style=\"text-align: right;\">\n",
       "      <th></th>\n",
       "      <th>Num</th>\n",
       "      <th>Name</th>\n",
       "      <th>Type 1</th>\n",
       "      <th>Type 2</th>\n",
       "      <th>Total</th>\n",
       "      <th>HP</th>\n",
       "      <th>Attack</th>\n",
       "      <th>Defense</th>\n",
       "      <th>SpAtk</th>\n",
       "      <th>SpDef</th>\n",
       "      <th>Speed</th>\n",
       "      <th>Stage</th>\n",
       "      <th>Legendary</th>\n",
       "    </tr>\n",
       "  </thead>\n",
       "  <tbody>\n",
       "    <tr>\n",
       "      <th>0</th>\n",
       "      <td>1</td>\n",
       "      <td>Bulbasaur</td>\n",
       "      <td>Grass</td>\n",
       "      <td>Poison</td>\n",
       "      <td>318</td>\n",
       "      <td>45</td>\n",
       "      <td>49</td>\n",
       "      <td>49</td>\n",
       "      <td>65</td>\n",
       "      <td>65</td>\n",
       "      <td>45</td>\n",
       "      <td>1</td>\n",
       "      <td>False</td>\n",
       "    </tr>\n",
       "    <tr>\n",
       "      <th>1</th>\n",
       "      <td>2</td>\n",
       "      <td>Ivysaur</td>\n",
       "      <td>Grass</td>\n",
       "      <td>Poison</td>\n",
       "      <td>405</td>\n",
       "      <td>60</td>\n",
       "      <td>62</td>\n",
       "      <td>63</td>\n",
       "      <td>80</td>\n",
       "      <td>80</td>\n",
       "      <td>60</td>\n",
       "      <td>2</td>\n",
       "      <td>False</td>\n",
       "    </tr>\n",
       "    <tr>\n",
       "      <th>2</th>\n",
       "      <td>3</td>\n",
       "      <td>Venusaur</td>\n",
       "      <td>Grass</td>\n",
       "      <td>Poison</td>\n",
       "      <td>525</td>\n",
       "      <td>80</td>\n",
       "      <td>82</td>\n",
       "      <td>83</td>\n",
       "      <td>100</td>\n",
       "      <td>100</td>\n",
       "      <td>80</td>\n",
       "      <td>3</td>\n",
       "      <td>False</td>\n",
       "    </tr>\n",
       "    <tr>\n",
       "      <th>3</th>\n",
       "      <td>4</td>\n",
       "      <td>Charmander</td>\n",
       "      <td>Fire</td>\n",
       "      <td>NaN</td>\n",
       "      <td>309</td>\n",
       "      <td>39</td>\n",
       "      <td>52</td>\n",
       "      <td>43</td>\n",
       "      <td>60</td>\n",
       "      <td>50</td>\n",
       "      <td>65</td>\n",
       "      <td>1</td>\n",
       "      <td>False</td>\n",
       "    </tr>\n",
       "    <tr>\n",
       "      <th>4</th>\n",
       "      <td>5</td>\n",
       "      <td>Charmeleon</td>\n",
       "      <td>Fire</td>\n",
       "      <td>NaN</td>\n",
       "      <td>405</td>\n",
       "      <td>58</td>\n",
       "      <td>64</td>\n",
       "      <td>58</td>\n",
       "      <td>80</td>\n",
       "      <td>65</td>\n",
       "      <td>80</td>\n",
       "      <td>2</td>\n",
       "      <td>False</td>\n",
       "    </tr>\n",
       "  </tbody>\n",
       "</table>\n",
       "</div>"
      ],
      "text/plain": [
       "   Num        Name Type 1  Type 2  Total  HP  Attack  Defense  SpAtk  SpDef  \\\n",
       "0    1   Bulbasaur  Grass  Poison    318  45      49       49     65     65   \n",
       "1    2     Ivysaur  Grass  Poison    405  60      62       63     80     80   \n",
       "2    3    Venusaur  Grass  Poison    525  80      82       83    100    100   \n",
       "3    4  Charmander   Fire     NaN    309  39      52       43     60     50   \n",
       "4    5  Charmeleon   Fire     NaN    405  58      64       58     80     65   \n",
       "\n",
       "   Speed  Stage  Legendary  \n",
       "0     45      1      False  \n",
       "1     60      2      False  \n",
       "2     80      3      False  \n",
       "3     65      1      False  \n",
       "4     80      2      False  "
      ]
     },
     "execution_count": 9,
     "metadata": {},
     "output_type": "execute_result"
    }
   ],
   "source": [
    "poke = pd.read_csv(\"pokemon.csv\")\n",
    "\n",
    "poke.head()"
   ]
  },
  {
   "cell_type": "code",
   "execution_count": 10,
   "id": "14a6a3d0",
   "metadata": {},
   "outputs": [
    {
     "data": {
      "text/plain": [
       "Water       28\n",
       "Normal      22\n",
       "Poison      14\n",
       "Grass       12\n",
       "Fire        12\n",
       "Bug         12\n",
       "Electric     9\n",
       "Rock         9\n",
       "Ground       8\n",
       "Psychic      8\n",
       "Fighting     7\n",
       "Ghost        3\n",
       "Dragon       3\n",
       "Fairy        2\n",
       "Ice          2\n",
       "Name: Type 1, dtype: int64"
      ]
     },
     "execution_count": 10,
     "metadata": {},
     "output_type": "execute_result"
    }
   ],
   "source": [
    "poke[\"Type 1\"].value_counts()"
   ]
  },
  {
   "cell_type": "code",
   "execution_count": 11,
   "id": "87c2cf7c",
   "metadata": {},
   "outputs": [
    {
     "data": {
      "text/plain": [
       "Water       0.185430\n",
       "Normal      0.145695\n",
       "Poison      0.092715\n",
       "Grass       0.079470\n",
       "Fire        0.079470\n",
       "Bug         0.079470\n",
       "Electric    0.059603\n",
       "Rock        0.059603\n",
       "Ground      0.052980\n",
       "Psychic     0.052980\n",
       "Fighting    0.046358\n",
       "Ghost       0.019868\n",
       "Dragon      0.019868\n",
       "Fairy       0.013245\n",
       "Ice         0.013245\n",
       "Name: Type 1, dtype: float64"
      ]
     },
     "execution_count": 11,
     "metadata": {},
     "output_type": "execute_result"
    }
   ],
   "source": [
    "poke[\"Type 1\"].value_counts(normalize = True)"
   ]
  },
  {
   "cell_type": "code",
   "execution_count": 12,
   "id": "64614f20",
   "metadata": {},
   "outputs": [
    {
     "data": {
      "text/html": [
       "<div>\n",
       "<style scoped>\n",
       "    .dataframe tbody tr th:only-of-type {\n",
       "        vertical-align: middle;\n",
       "    }\n",
       "\n",
       "    .dataframe tbody tr th {\n",
       "        vertical-align: top;\n",
       "    }\n",
       "\n",
       "    .dataframe thead th {\n",
       "        text-align: right;\n",
       "    }\n",
       "</style>\n",
       "<table border=\"1\" class=\"dataframe\">\n",
       "  <thead>\n",
       "    <tr style=\"text-align: right;\">\n",
       "      <th>Stage</th>\n",
       "      <th>1</th>\n",
       "      <th>2</th>\n",
       "      <th>3</th>\n",
       "      <th>All</th>\n",
       "    </tr>\n",
       "    <tr>\n",
       "      <th>Legendary</th>\n",
       "      <th></th>\n",
       "      <th></th>\n",
       "      <th></th>\n",
       "      <th></th>\n",
       "    </tr>\n",
       "  </thead>\n",
       "  <tbody>\n",
       "    <tr>\n",
       "      <th>False</th>\n",
       "      <td>75</td>\n",
       "      <td>56</td>\n",
       "      <td>16</td>\n",
       "      <td>147</td>\n",
       "    </tr>\n",
       "    <tr>\n",
       "      <th>True</th>\n",
       "      <td>4</td>\n",
       "      <td>0</td>\n",
       "      <td>0</td>\n",
       "      <td>4</td>\n",
       "    </tr>\n",
       "    <tr>\n",
       "      <th>All</th>\n",
       "      <td>79</td>\n",
       "      <td>56</td>\n",
       "      <td>16</td>\n",
       "      <td>151</td>\n",
       "    </tr>\n",
       "  </tbody>\n",
       "</table>\n",
       "</div>"
      ],
      "text/plain": [
       "Stage       1   2   3  All\n",
       "Legendary                 \n",
       "False      75  56  16  147\n",
       "True        4   0   0    4\n",
       "All        79  56  16  151"
      ]
     },
     "execution_count": 12,
     "metadata": {},
     "output_type": "execute_result"
    }
   ],
   "source": [
    "pd.crosstab(poke[\"Legendary\"], poke[\"Stage\"], margins = True, normalize = False)"
   ]
  },
  {
   "cell_type": "markdown",
   "id": "06401fbf",
   "metadata": {},
   "source": [
    "## Describing Quantitative Data\n",
    "\n",
    "There are many more techniques for describing quantitative data compared to qualitative. When summarizing quantitative data, the objective is to get a sense of how the data is clustered and the variation in numeric values. \n",
    "\n",
    "***\n",
    "\n",
    "### Measures of Central Tendency\n",
    "\n",
    "Measures of Central Tendency are estimates of what a \"typical\" value/data point is within your set of data. A measure of central tendency is a number around which an entire sample of data is spread. We can describe this central position using several statistics, including the mean (average), the median, and the mode. \n",
    "\n",
    "Measures of central tendency can be visualized with a frequency distribution (histogram). A frequency distribution is a description of values and how often each value occurs within your dataset. When you graph a frequency distribution a pattern/shape should give insight into which values occured the most/least. \n",
    "\n",
    "<img src=\"NormalDist.jpg\">\n",
    "\n",
    "***\n",
    "\n",
    "#### Mean\n",
    "\n",
    "The mean, which is the most commonly known and used measure of central tendency, is the arithmetic average of a set of numeric values. The mean is calculated by adding all the values together and dividing by the total number of values in the set of values. In specific sets of data, the mean is the central point in the frequency distribution aka the hump. "
   ]
  },
  {
   "cell_type": "code",
   "execution_count": 13,
   "id": "e014a160",
   "metadata": {},
   "outputs": [
    {
     "data": {
      "text/html": [
       "<div>\n",
       "<style scoped>\n",
       "    .dataframe tbody tr th:only-of-type {\n",
       "        vertical-align: middle;\n",
       "    }\n",
       "\n",
       "    .dataframe tbody tr th {\n",
       "        vertical-align: top;\n",
       "    }\n",
       "\n",
       "    .dataframe thead th {\n",
       "        text-align: right;\n",
       "    }\n",
       "</style>\n",
       "<table border=\"1\" class=\"dataframe\">\n",
       "  <thead>\n",
       "    <tr style=\"text-align: right;\">\n",
       "      <th></th>\n",
       "      <th>Fname</th>\n",
       "      <th>Lname</th>\n",
       "      <th>Position</th>\n",
       "      <th>Gender</th>\n",
       "      <th>Hours Worked</th>\n",
       "      <th>SalesTraining</th>\n",
       "      <th>Years Experience</th>\n",
       "      <th>Cars Sold</th>\n",
       "    </tr>\n",
       "  </thead>\n",
       "  <tbody>\n",
       "    <tr>\n",
       "      <th>0</th>\n",
       "      <td>Jackie</td>\n",
       "      <td>Jackson</td>\n",
       "      <td>Trainee</td>\n",
       "      <td>F</td>\n",
       "      <td>32</td>\n",
       "      <td>Y</td>\n",
       "      <td>1</td>\n",
       "      <td>3</td>\n",
       "    </tr>\n",
       "    <tr>\n",
       "      <th>1</th>\n",
       "      <td>Mary</td>\n",
       "      <td>Patterson</td>\n",
       "      <td>Trainee</td>\n",
       "      <td>F</td>\n",
       "      <td>43</td>\n",
       "      <td>N</td>\n",
       "      <td>1</td>\n",
       "      <td>6</td>\n",
       "    </tr>\n",
       "  </tbody>\n",
       "</table>\n",
       "</div>"
      ],
      "text/plain": [
       "    Fname      Lname Position Gender  Hours Worked SalesTraining  \\\n",
       "0  Jackie    Jackson  Trainee      F            32             Y   \n",
       "1    Mary  Patterson  Trainee      F            43             N   \n",
       "\n",
       "   Years Experience  Cars Sold  \n",
       "0                 1          3  \n",
       "1                 1          6  "
      ]
     },
     "execution_count": 13,
     "metadata": {},
     "output_type": "execute_result"
    }
   ],
   "source": [
    "df.head(2)"
   ]
  },
  {
   "cell_type": "code",
   "execution_count": 14,
   "id": "9875c190",
   "metadata": {},
   "outputs": [
    {
     "data": {
      "text/plain": [
       "33.727727727727725"
      ]
     },
     "execution_count": 14,
     "metadata": {},
     "output_type": "execute_result"
    }
   ],
   "source": [
    "## Calculate the Mean of a column \n",
    "\n",
    "df[\"Hours Worked\"].mean()"
   ]
  },
  {
   "cell_type": "markdown",
   "id": "b2722e86",
   "metadata": {},
   "source": [
    "#### Median \n",
    "\n",
    "The median is the value which divides the data into two equal parts when the data is arranged from least to greatest. The median will be the middle value if the number of values is odd, otherwise, it will be the average of the two middle values if the number of values is even. "
   ]
  },
  {
   "cell_type": "code",
   "execution_count": 15,
   "id": "24bffb75",
   "metadata": {},
   "outputs": [
    {
     "data": {
      "text/plain": [
       "34.0"
      ]
     },
     "execution_count": 15,
     "metadata": {},
     "output_type": "execute_result"
    }
   ],
   "source": [
    "## Calculate the Median of a column \n",
    "\n",
    "df[\"Hours Worked\"].median()"
   ]
  },
  {
   "cell_type": "markdown",
   "id": "47a9f4a9",
   "metadata": {},
   "source": [
    "#### Mode \n",
    "\n",
    "The mode is the value that appears most frequently in a sample of data, or the value that has the highest frequency. It is possible for a set of data to have no mode, and it is possible for a set of data to have multiple modes. "
   ]
  },
  {
   "cell_type": "code",
   "execution_count": 16,
   "id": "62704419",
   "metadata": {},
   "outputs": [
    {
     "data": {
      "text/plain": [
       "0    38\n",
       "Name: Hours Worked, dtype: int64"
      ]
     },
     "execution_count": 16,
     "metadata": {},
     "output_type": "execute_result"
    }
   ],
   "source": [
    "## Calculate the Mode of a column \n",
    "\n",
    "df[\"Hours Worked\"].mode()"
   ]
  },
  {
   "cell_type": "code",
   "execution_count": 17,
   "id": "20a02707",
   "metadata": {},
   "outputs": [
    {
     "data": {
      "text/html": [
       "<div>\n",
       "<style scoped>\n",
       "    .dataframe tbody tr th:only-of-type {\n",
       "        vertical-align: middle;\n",
       "    }\n",
       "\n",
       "    .dataframe tbody tr th {\n",
       "        vertical-align: top;\n",
       "    }\n",
       "\n",
       "    .dataframe thead th {\n",
       "        text-align: right;\n",
       "    }\n",
       "</style>\n",
       "<table border=\"1\" class=\"dataframe\">\n",
       "  <thead>\n",
       "    <tr style=\"text-align: right;\">\n",
       "      <th></th>\n",
       "      <th>Fname</th>\n",
       "      <th>Lname</th>\n",
       "      <th>Position</th>\n",
       "      <th>Gender</th>\n",
       "      <th>Hours Worked</th>\n",
       "      <th>SalesTraining</th>\n",
       "      <th>Years Experience</th>\n",
       "      <th>Cars Sold</th>\n",
       "    </tr>\n",
       "  </thead>\n",
       "  <tbody>\n",
       "    <tr>\n",
       "      <th>0</th>\n",
       "      <td>Jackie</td>\n",
       "      <td>Jackson</td>\n",
       "      <td>Trainee</td>\n",
       "      <td>F</td>\n",
       "      <td>32</td>\n",
       "      <td>Y</td>\n",
       "      <td>1</td>\n",
       "      <td>3</td>\n",
       "    </tr>\n",
       "    <tr>\n",
       "      <th>1</th>\n",
       "      <td>Mary</td>\n",
       "      <td>Patterson</td>\n",
       "      <td>Trainee</td>\n",
       "      <td>F</td>\n",
       "      <td>43</td>\n",
       "      <td>N</td>\n",
       "      <td>1</td>\n",
       "      <td>6</td>\n",
       "    </tr>\n",
       "    <tr>\n",
       "      <th>2</th>\n",
       "      <td>Tanya</td>\n",
       "      <td>Adams</td>\n",
       "      <td>Trainee</td>\n",
       "      <td>F</td>\n",
       "      <td>28</td>\n",
       "      <td>Y</td>\n",
       "      <td>1</td>\n",
       "      <td>2</td>\n",
       "    </tr>\n",
       "    <tr>\n",
       "      <th>3</th>\n",
       "      <td>Tanya</td>\n",
       "      <td>Henderson</td>\n",
       "      <td>Trainee</td>\n",
       "      <td>F</td>\n",
       "      <td>24</td>\n",
       "      <td>Y</td>\n",
       "      <td>1</td>\n",
       "      <td>5</td>\n",
       "    </tr>\n",
       "    <tr>\n",
       "      <th>4</th>\n",
       "      <td>Walter</td>\n",
       "      <td>Franklin</td>\n",
       "      <td>Trainee</td>\n",
       "      <td>M</td>\n",
       "      <td>25</td>\n",
       "      <td>Y</td>\n",
       "      <td>1</td>\n",
       "      <td>4</td>\n",
       "    </tr>\n",
       "    <tr>\n",
       "      <th>5</th>\n",
       "      <td>Victoria</td>\n",
       "      <td>Ettienne</td>\n",
       "      <td>Trainee</td>\n",
       "      <td>F</td>\n",
       "      <td>29</td>\n",
       "      <td>Y</td>\n",
       "      <td>1</td>\n",
       "      <td>2</td>\n",
       "    </tr>\n",
       "    <tr>\n",
       "      <th>6</th>\n",
       "      <td>Martin</td>\n",
       "      <td>Ettienne</td>\n",
       "      <td>Trainee</td>\n",
       "      <td>M</td>\n",
       "      <td>42</td>\n",
       "      <td>N</td>\n",
       "      <td>1</td>\n",
       "      <td>6</td>\n",
       "    </tr>\n",
       "    <tr>\n",
       "      <th>7</th>\n",
       "      <td>Peter</td>\n",
       "      <td>Michaels</td>\n",
       "      <td>Trainee</td>\n",
       "      <td>M</td>\n",
       "      <td>43</td>\n",
       "      <td>N</td>\n",
       "      <td>1</td>\n",
       "      <td>6</td>\n",
       "    </tr>\n",
       "    <tr>\n",
       "      <th>8</th>\n",
       "      <td>Denise</td>\n",
       "      <td>Henderson</td>\n",
       "      <td>Trainee</td>\n",
       "      <td>F</td>\n",
       "      <td>38</td>\n",
       "      <td>N</td>\n",
       "      <td>1</td>\n",
       "      <td>5</td>\n",
       "    </tr>\n",
       "    <tr>\n",
       "      <th>9</th>\n",
       "      <td>Walter</td>\n",
       "      <td>Moore</td>\n",
       "      <td>Trainee</td>\n",
       "      <td>M</td>\n",
       "      <td>32</td>\n",
       "      <td>Y</td>\n",
       "      <td>1</td>\n",
       "      <td>3</td>\n",
       "    </tr>\n",
       "    <tr>\n",
       "      <th>10</th>\n",
       "      <td>Sam</td>\n",
       "      <td>Michaels</td>\n",
       "      <td>Trainee</td>\n",
       "      <td>M</td>\n",
       "      <td>45</td>\n",
       "      <td>Y</td>\n",
       "      <td>1</td>\n",
       "      <td>3</td>\n",
       "    </tr>\n",
       "    <tr>\n",
       "      <th>11</th>\n",
       "      <td>Jada</td>\n",
       "      <td>Walters</td>\n",
       "      <td>Trainee</td>\n",
       "      <td>F</td>\n",
       "      <td>24</td>\n",
       "      <td>Y</td>\n",
       "      <td>1</td>\n",
       "      <td>4</td>\n",
       "    </tr>\n",
       "    <tr>\n",
       "      <th>12</th>\n",
       "      <td>Jack</td>\n",
       "      <td>Ettienne</td>\n",
       "      <td>Trainee</td>\n",
       "      <td>M</td>\n",
       "      <td>21</td>\n",
       "      <td>Y</td>\n",
       "      <td>1</td>\n",
       "      <td>2</td>\n",
       "    </tr>\n",
       "    <tr>\n",
       "      <th>13</th>\n",
       "      <td>Tanya</td>\n",
       "      <td>Carter</td>\n",
       "      <td>Trainee</td>\n",
       "      <td>F</td>\n",
       "      <td>40</td>\n",
       "      <td>Y</td>\n",
       "      <td>1</td>\n",
       "      <td>4</td>\n",
       "    </tr>\n",
       "    <tr>\n",
       "      <th>14</th>\n",
       "      <td>Tom</td>\n",
       "      <td>Mulgrew</td>\n",
       "      <td>Trainee</td>\n",
       "      <td>M</td>\n",
       "      <td>29</td>\n",
       "      <td>Y</td>\n",
       "      <td>1</td>\n",
       "      <td>5</td>\n",
       "    </tr>\n",
       "    <tr>\n",
       "      <th>15</th>\n",
       "      <td>Betty</td>\n",
       "      <td>Looner</td>\n",
       "      <td>Trainee</td>\n",
       "      <td>F</td>\n",
       "      <td>41</td>\n",
       "      <td>Y</td>\n",
       "      <td>1</td>\n",
       "      <td>6</td>\n",
       "    </tr>\n",
       "    <tr>\n",
       "      <th>16</th>\n",
       "      <td>John</td>\n",
       "      <td>Rose</td>\n",
       "      <td>Trainee</td>\n",
       "      <td>M</td>\n",
       "      <td>42</td>\n",
       "      <td>Y</td>\n",
       "      <td>1</td>\n",
       "      <td>2</td>\n",
       "    </tr>\n",
       "    <tr>\n",
       "      <th>17</th>\n",
       "      <td>Roger</td>\n",
       "      <td>Sapp</td>\n",
       "      <td>Trainee</td>\n",
       "      <td>M</td>\n",
       "      <td>41</td>\n",
       "      <td>Y</td>\n",
       "      <td>1</td>\n",
       "      <td>3</td>\n",
       "    </tr>\n",
       "    <tr>\n",
       "      <th>18</th>\n",
       "      <td>Karen</td>\n",
       "      <td>Samuelson</td>\n",
       "      <td>Trainee</td>\n",
       "      <td>F</td>\n",
       "      <td>41</td>\n",
       "      <td>Y</td>\n",
       "      <td>1</td>\n",
       "      <td>2</td>\n",
       "    </tr>\n",
       "    <tr>\n",
       "      <th>19</th>\n",
       "      <td>india</td>\n",
       "      <td>Franklin</td>\n",
       "      <td>Trainee</td>\n",
       "      <td>F</td>\n",
       "      <td>36</td>\n",
       "      <td>Y</td>\n",
       "      <td>1</td>\n",
       "      <td>2</td>\n",
       "    </tr>\n",
       "  </tbody>\n",
       "</table>\n",
       "</div>"
      ],
      "text/plain": [
       "       Fname      Lname Position Gender  Hours Worked SalesTraining  \\\n",
       "0     Jackie    Jackson  Trainee      F            32             Y   \n",
       "1       Mary  Patterson  Trainee      F            43             N   \n",
       "2      Tanya      Adams  Trainee      F            28             Y   \n",
       "3      Tanya  Henderson  Trainee      F            24             Y   \n",
       "4     Walter   Franklin  Trainee      M            25             Y   \n",
       "5   Victoria   Ettienne  Trainee      F            29             Y   \n",
       "6     Martin   Ettienne  Trainee      M            42             N   \n",
       "7      Peter   Michaels  Trainee      M            43             N   \n",
       "8     Denise  Henderson  Trainee      F            38             N   \n",
       "9     Walter      Moore  Trainee      M            32             Y   \n",
       "10       Sam   Michaels  Trainee      M            45             Y   \n",
       "11      Jada   Walters   Trainee      F            24             Y   \n",
       "12      Jack   Ettienne  Trainee      M            21             Y   \n",
       "13     Tanya     Carter  Trainee      F            40             Y   \n",
       "14       Tom    Mulgrew  Trainee      M            29             Y   \n",
       "15     Betty     Looner  Trainee      F            41             Y   \n",
       "16      John       Rose  Trainee      M            42             Y   \n",
       "17     Roger       Sapp  Trainee      M            41             Y   \n",
       "18     Karen  Samuelson  Trainee      F            41             Y   \n",
       "19     india   Franklin  Trainee      F            36             Y   \n",
       "\n",
       "    Years Experience  Cars Sold  \n",
       "0                  1          3  \n",
       "1                  1          6  \n",
       "2                  1          2  \n",
       "3                  1          5  \n",
       "4                  1          4  \n",
       "5                  1          2  \n",
       "6                  1          6  \n",
       "7                  1          6  \n",
       "8                  1          5  \n",
       "9                  1          3  \n",
       "10                 1          3  \n",
       "11                 1          4  \n",
       "12                 1          2  \n",
       "13                 1          4  \n",
       "14                 1          5  \n",
       "15                 1          6  \n",
       "16                 1          2  \n",
       "17                 1          3  \n",
       "18                 1          2  \n",
       "19                 1          2  "
      ]
     },
     "execution_count": 17,
     "metadata": {},
     "output_type": "execute_result"
    }
   ],
   "source": [
    "df.head(20)"
   ]
  },
  {
   "cell_type": "code",
   "execution_count": 18,
   "id": "bbd85b05",
   "metadata": {},
   "outputs": [
    {
     "data": {
      "text/plain": [
       "5    206\n",
       "4    202\n",
       "3    194\n",
       "2    172\n",
       "6    156\n",
       "1     44\n",
       "7     25\n",
       "Name: Cars Sold, dtype: int64"
      ]
     },
     "execution_count": 18,
     "metadata": {},
     "output_type": "execute_result"
    }
   ],
   "source": [
    "df[\"Cars Sold\"].value_counts()"
   ]
  },
  {
   "cell_type": "markdown",
   "id": "238561a5",
   "metadata": {},
   "source": [
    "# { Exercise 2 }\n",
    "\n",
    "    1. Using the pokemon dataset ('poke'), calculate the mean attack value (Attack) in the dataset.  \n",
    "    2. Determine the median defense value (Defense). Write a single sentence on what your findings mean. \n",
    "    3. Determine the mode of the speed (Speed) column. Write a single sentence on what your findings mean. "
   ]
  },
  {
   "cell_type": "code",
   "execution_count": 19,
   "id": "4279bb85",
   "metadata": {},
   "outputs": [
    {
     "data": {
      "text/plain": [
       "72.54966887417218"
      ]
     },
     "execution_count": 19,
     "metadata": {},
     "output_type": "execute_result"
    }
   ],
   "source": [
    "poke[\"Attack\"].mean()"
   ]
  },
  {
   "cell_type": "code",
   "execution_count": 20,
   "id": "970ef683",
   "metadata": {},
   "outputs": [
    {
     "data": {
      "text/plain": [
       "65.0"
      ]
     },
     "execution_count": 20,
     "metadata": {},
     "output_type": "execute_result"
    }
   ],
   "source": [
    "poke[\"Defense\"].median()"
   ]
  },
  {
   "cell_type": "code",
   "execution_count": 21,
   "id": "9d53331d",
   "metadata": {},
   "outputs": [
    {
     "data": {
      "text/plain": [
       "0    70\n",
       "1    90\n",
       "Name: Speed, dtype: int64"
      ]
     },
     "execution_count": 21,
     "metadata": {},
     "output_type": "execute_result"
    }
   ],
   "source": [
    "poke[\"Speed\"].mode()"
   ]
  },
  {
   "cell_type": "markdown",
   "id": "bd766711",
   "metadata": {},
   "source": [
    "### Data Distribution and Measurement Sensitivity\n",
    "***\n",
    "\n",
    "### Normally distributed data vs. non-normally distributed data\n",
    "\n",
    "Several statistics are suited for data that follows a <b>normal distribution</b>. When visualized, normally distributed data lies in a symmetrical pattern (bell-shape) where the majority of the data surrounds the mean with decreasing amounts evenly distributed to the left and the right. \n",
    "\n",
    "While this is the ideal, real-world data is not always normally distributed. Non-normal distribution is possible and there are several statistics that can still be used with non-normally distributed data. It is important to determine how your data is distributed before you embark on certain statistics. \n",
    "\n",
    "#### Distribution and Measure of Central Tendency\n",
    "\n",
    "The shape of the data helps to determine which measure of central tendency should be reported. Some statistics are very sensitive to non-normal distributions, while others are more resilient. Three of the most common shapes to learn are symmetric, left-skewed, and right-skewed. <b>Skew</b> is simply a measure of the asymmetry of the distribution. <b>In the below images, while not shown, the values are increasing from left to right.</b> \n",
    "\n",
    "#### Symmetric Data\n",
    "* mean, median, and mode are all the same here\n",
    "* no skewness is apparent\n",
    "* the distribution is described as symmetric\n",
    "\n",
    "<img src=\"Symmetrical.jpg\">\n",
    "\n",
    "***\n",
    "\n",
    "#### Left-skewed Data\n",
    "* mean < median\n",
    "* long tail on the left\n",
    "\n",
    "<img src=\"LeftSkew.jpg\">\n",
    "\n",
    "***\n",
    "\n",
    "#### Right-skewed Data\n",
    "* mean > median\n",
    "* long tail on the right\n",
    "\n",
    "<img src=\"RightSkew.jpg\">\n",
    "\n",
    "***\n",
    "\n",
    "### Considerations for Shape\n",
    "\n",
    "When your data is skewed in either direction, you should consider the best measure of central tendency to report. The median is best used when you have skewed data. This is because the median is less affected by extreme values. \n",
    "\n",
    "If your data is skewed, this could be an indication that your data has extreme high or low values that are contributing to the skewness. Later in this lesson, we will talk about how to handle extreme values. "
   ]
  },
  {
   "cell_type": "markdown",
   "id": "7141c9ea",
   "metadata": {},
   "source": [
    "### Measures of Variability (or Spread)\n",
    "\n",
    "Measures of Variability, or spread, describe the amount of dispersion in your data sample. In other words, measures of variability, describe how spread out values are. For example, in a sample of 100 students, the average test score is 75. However, not all students will have gotten a 75 - their scores will be spread out above and below the average, some will be higher and some lower. To describe the spread of our data, we can use several statistics, including range, standard deviation, percentiles, and quartiles.\n",
    "\n",
    "***\n",
    "\n",
    "#### Range\n",
    "\n",
    "The range is the difference between the lowest and highest value in a set of data. For example, if the maximum value is 10 and the minimum value is 2, the range is 8. The larger the range, the larger the difference between the highest and lowest values. "
   ]
  },
  {
   "cell_type": "code",
   "execution_count": 22,
   "id": "8e051a04",
   "metadata": {},
   "outputs": [
    {
     "name": "stdout",
     "output_type": "stream",
     "text": [
      "28\n"
     ]
    }
   ],
   "source": [
    "## Calculate the range of values in a column\n",
    "\n",
    "hrs_range = df['Hours Worked'].max() - df['Hours Worked'].min()\n",
    "\n",
    "print(hrs_range)"
   ]
  },
  {
   "cell_type": "markdown",
   "id": "268202ff",
   "metadata": {},
   "source": [
    "#### Standard Deviation (SD)\n",
    "\n",
    "The SD is a measurement of the average distance between each data value and the mean. You can consider SD as a measure of how spread out the data is from the mean. A low SD indicates that the data points are clustered around the mean, while a high SD indicates the data points are spread out over a wider range of values. \n",
    "\n",
    "<img src=\"https://d20khd7ddkh5ls.cloudfront.net/high_low_standard_deviation.png\">"
   ]
  },
  {
   "cell_type": "code",
   "execution_count": 23,
   "id": "4c6d3b46",
   "metadata": {},
   "outputs": [
    {
     "name": "stdout",
     "output_type": "stream",
     "text": [
      "Mean hours worked by all employees: 33.727727727727725\n"
     ]
    },
    {
     "data": {
      "text/plain": [
       "8.223453795492198"
      ]
     },
     "execution_count": 23,
     "metadata": {},
     "output_type": "execute_result"
    }
   ],
   "source": [
    "## Calculate the Standard Deviation of values in a column\n",
    "\n",
    "print(\"Mean hours worked by all employees:\", df[\"Hours Worked\"].mean())\n",
    "\n",
    "df[\"Hours Worked\"].std()"
   ]
  },
  {
   "cell_type": "markdown",
   "id": "fdd0c97b",
   "metadata": {},
   "source": [
    "#### Percentiles\n",
    "\n",
    "Percentiles give insight into the relation of one data point to other data points within the same dataset. When the data values are arranged from lowest to highest, percentiles represent the position of a value within the list of values. For example, if a value is at the 50th percentile - 50% of the data falls below the value, and 50% fall above the value. If a value is at the 85th percentile - 85% of the data falls below the value, and 15% fall above the value. "
   ]
  },
  {
   "cell_type": "code",
   "execution_count": 24,
   "id": "03f15bee",
   "metadata": {},
   "outputs": [
    {
     "data": {
      "text/plain": [
       "44.0"
      ]
     },
     "execution_count": 24,
     "metadata": {},
     "output_type": "execute_result"
    }
   ],
   "source": [
    "## Calculate percentiles of values in a column\n",
    "## To determine the value that falls at a specific percentile\n",
    "## np.percentile(data/column, percentile value)\n",
    "\n",
    "np.percentile(df['Hours Worked'], 85)\n",
    "\n",
    "## Determine which value falls at the 85th percentile? \n",
    "## 85% of the values in Hours Worked are below this value, 15% are above this value. "
   ]
  },
  {
   "cell_type": "markdown",
   "id": "404b48bb",
   "metadata": {},
   "source": [
    "#### Quartiles \n",
    "\n",
    "Quartiles are values that divide a set of data into equal quarters (when the data is ordered from lowest to highest). There are <b>three</b> quartile values that divide the data into four parts (see below). \n",
    "\n",
    "<img src=\"quar.png\">\n",
    "\n",
    "* The first quartile (Q1) is at the 25th percentile (25% below, 75% above)\n",
    "* The second quartile (Q2) is at the 50th percentile (50% below, 50% above, median)\n",
    "* The third quartile (Q3) is at the 75th percentile (75% below, 25% above)\n",
    "\n",
    "<b>Quartiles can be used to calculate the Interquartile Range (IQR) - which can be used to handle outliers in your dataset.</b>"
   ]
  },
  {
   "cell_type": "code",
   "execution_count": 25,
   "id": "5a401565",
   "metadata": {},
   "outputs": [
    {
     "data": {
      "text/plain": [
       "27.0"
      ]
     },
     "execution_count": 25,
     "metadata": {},
     "output_type": "execute_result"
    }
   ],
   "source": [
    "## Determine the three quartiles of a set of data\n",
    "## A quantile is a series of values, or cut points, that divide a set of data into equal parts \n",
    "## A 'quartile' is a specical kind of quantile that divides the data into four equal parts\n",
    "\n",
    "df['Hours Worked'].quantile(.25) \n",
    "\n",
    "\n",
    "#Q1 = .25\n",
    "#Q2 = .50\n",
    "#Q3 = .75"
   ]
  },
  {
   "cell_type": "markdown",
   "id": "70809067",
   "metadata": {},
   "source": [
    "#### All of the Above \n",
    "\n",
    "The describe function is perfect for outputting multiple descriptive statistics at once. This will save you multiple steps if you want to look at one or several quantitative variables. "
   ]
  },
  {
   "cell_type": "code",
   "execution_count": 26,
   "id": "c6c02bf7",
   "metadata": {},
   "outputs": [
    {
     "data": {
      "text/html": [
       "<div>\n",
       "<style scoped>\n",
       "    .dataframe tbody tr th:only-of-type {\n",
       "        vertical-align: middle;\n",
       "    }\n",
       "\n",
       "    .dataframe tbody tr th {\n",
       "        vertical-align: top;\n",
       "    }\n",
       "\n",
       "    .dataframe thead th {\n",
       "        text-align: right;\n",
       "    }\n",
       "</style>\n",
       "<table border=\"1\" class=\"dataframe\">\n",
       "  <thead>\n",
       "    <tr style=\"text-align: right;\">\n",
       "      <th></th>\n",
       "      <th>Hours Worked</th>\n",
       "      <th>Years Experience</th>\n",
       "      <th>Cars Sold</th>\n",
       "    </tr>\n",
       "  </thead>\n",
       "  <tbody>\n",
       "    <tr>\n",
       "      <th>count</th>\n",
       "      <td>999.000000</td>\n",
       "      <td>999.000000</td>\n",
       "      <td>999.000000</td>\n",
       "    </tr>\n",
       "    <tr>\n",
       "      <th>mean</th>\n",
       "      <td>33.727728</td>\n",
       "      <td>3.026026</td>\n",
       "      <td>3.922923</td>\n",
       "    </tr>\n",
       "    <tr>\n",
       "      <th>std</th>\n",
       "      <td>8.223454</td>\n",
       "      <td>1.394709</td>\n",
       "      <td>1.527000</td>\n",
       "    </tr>\n",
       "    <tr>\n",
       "      <th>min</th>\n",
       "      <td>20.000000</td>\n",
       "      <td>1.000000</td>\n",
       "      <td>1.000000</td>\n",
       "    </tr>\n",
       "    <tr>\n",
       "      <th>25%</th>\n",
       "      <td>27.000000</td>\n",
       "      <td>2.000000</td>\n",
       "      <td>3.000000</td>\n",
       "    </tr>\n",
       "    <tr>\n",
       "      <th>50%</th>\n",
       "      <td>34.000000</td>\n",
       "      <td>3.000000</td>\n",
       "      <td>4.000000</td>\n",
       "    </tr>\n",
       "    <tr>\n",
       "      <th>75%</th>\n",
       "      <td>41.000000</td>\n",
       "      <td>4.000000</td>\n",
       "      <td>5.000000</td>\n",
       "    </tr>\n",
       "    <tr>\n",
       "      <th>max</th>\n",
       "      <td>48.000000</td>\n",
       "      <td>5.000000</td>\n",
       "      <td>7.000000</td>\n",
       "    </tr>\n",
       "  </tbody>\n",
       "</table>\n",
       "</div>"
      ],
      "text/plain": [
       "       Hours Worked  Years Experience   Cars Sold\n",
       "count    999.000000        999.000000  999.000000\n",
       "mean      33.727728          3.026026    3.922923\n",
       "std        8.223454          1.394709    1.527000\n",
       "min       20.000000          1.000000    1.000000\n",
       "25%       27.000000          2.000000    3.000000\n",
       "50%       34.000000          3.000000    4.000000\n",
       "75%       41.000000          4.000000    5.000000\n",
       "max       48.000000          5.000000    7.000000"
      ]
     },
     "execution_count": 26,
     "metadata": {},
     "output_type": "execute_result"
    }
   ],
   "source": [
    "## Use the describe function to view multiple statistics at the same time\n",
    "\n",
    "df.describe()"
   ]
  },
  {
   "cell_type": "code",
   "execution_count": 27,
   "id": "8d7fc4f7",
   "metadata": {},
   "outputs": [
    {
     "data": {
      "text/plain": [
       "count    999.000000\n",
       "mean      33.727728\n",
       "std        8.223454\n",
       "min       20.000000\n",
       "25%       27.000000\n",
       "50%       34.000000\n",
       "75%       41.000000\n",
       "max       48.000000\n",
       "Name: Hours Worked, dtype: float64"
      ]
     },
     "execution_count": 27,
     "metadata": {},
     "output_type": "execute_result"
    }
   ],
   "source": [
    "## Use the describe function to isolate information for a single column\n",
    "\n",
    "df['Hours Worked'].describe()"
   ]
  },
  {
   "cell_type": "markdown",
   "id": "6fef3e31",
   "metadata": {},
   "source": [
    "# { Exercise 3 }\n",
    "\n",
    "    1. Using the pokemon dataset ('poke'), calculate the range for the HP column. \n",
    "    2. What is the mean and the standard deviation for the special attack (SpAtk) column?\n",
    "    3. For the Attack column, determine which value falls at the 80th percentile? Which value falls at the 15th percentile? For each of these values, write a single sentence describing what this means. \n",
    "    4. Calculate the second quartile (or the median) for the special defense (SpDef) column. Then, calculate the median of the same column using the method shown above. Are the values the same? "
   ]
  },
  {
   "cell_type": "code",
   "execution_count": 28,
   "id": "8eaf258a",
   "metadata": {},
   "outputs": [
    {
     "name": "stdout",
     "output_type": "stream",
     "text": [
      "240\n"
     ]
    }
   ],
   "source": [
    "# Calculate the range of values in HP column\n",
    "\n",
    "hp_range = poke['HP'].max() - poke['HP'].min()\n",
    "\n",
    "print(hp_range)"
   ]
  },
  {
   "cell_type": "code",
   "execution_count": 29,
   "id": "a7aed6b0",
   "metadata": {},
   "outputs": [
    {
     "data": {
      "text/plain": [
       "count    151.000000\n",
       "mean      67.139073\n",
       "std       28.534199\n",
       "min       15.000000\n",
       "25%       45.000000\n",
       "50%       65.000000\n",
       "75%       87.500000\n",
       "max      154.000000\n",
       "Name: SpAtk, dtype: float64"
      ]
     },
     "execution_count": 29,
     "metadata": {},
     "output_type": "execute_result"
    }
   ],
   "source": [
    "# Mean and the standard deviation for the special attack (SpAtk) column\n",
    "poke[\"SpAtk\"].describe()"
   ]
  },
  {
   "cell_type": "code",
   "execution_count": 30,
   "id": "5d864563",
   "metadata": {},
   "outputs": [],
   "source": [
    "# Mean for SpAtk is 67.139073 and the standard deviation is 28.534199"
   ]
  },
  {
   "cell_type": "code",
   "execution_count": 31,
   "id": "71f79ba0",
   "metadata": {},
   "outputs": [
    {
     "data": {
      "text/plain": [
       "45.0"
      ]
     },
     "execution_count": 31,
     "metadata": {},
     "output_type": "execute_result"
    }
   ],
   "source": [
    "# For the Attack column, determine which value falls at the 80th percentile? 100.0\n",
    "# Which value falls at the 15th percentile? 45.0\n",
    "# The mean for the 80th percentile is 131.80000\n",
    "# The mean for the 15th percentile is 27.410611\n",
    "\n",
    "poke['Attack'].quantile(.15) \n"
   ]
  },
  {
   "cell_type": "code",
   "execution_count": 32,
   "id": "dd3e5699",
   "metadata": {},
   "outputs": [
    {
     "data": {
      "text/plain": [
       "100.0"
      ]
     },
     "execution_count": 32,
     "metadata": {},
     "output_type": "execute_result"
    }
   ],
   "source": [
    "poke['Attack'].quantile(.85)"
   ]
  },
  {
   "cell_type": "code",
   "execution_count": 33,
   "id": "71c0e255",
   "metadata": {},
   "outputs": [
    {
     "data": {
      "text/plain": [
       "Num        149.125000\n",
       "Total      485.853974\n",
       "HP         147.450000\n",
       "Attack     131.800000\n",
       "Defense    147.650000\n",
       "SpAtk      147.825000\n",
       "SpDef      122.750000\n",
       "Speed      137.500000\n",
       "Stage        2.950000\n",
       "Name: 0.85, dtype: float64"
      ]
     },
     "execution_count": 33,
     "metadata": {},
     "output_type": "execute_result"
    }
   ],
   "source": [
    "poke.describe().quantile(.85)"
   ]
  },
  {
   "cell_type": "code",
   "execution_count": 34,
   "id": "be7c60a5",
   "metadata": {},
   "outputs": [
    {
     "data": {
      "text/plain": [
       "Num         38.761702\n",
       "Total      153.200000\n",
       "HP          29.410611\n",
       "Attack      27.816354\n",
       "Defense     28.070869\n",
       "SpAtk       29.357489\n",
       "SpDef       25.438029\n",
       "Speed       27.734536\n",
       "Stage        1.000000\n",
       "Name: 0.15, dtype: float64"
      ]
     },
     "execution_count": 34,
     "metadata": {},
     "output_type": "execute_result"
    }
   ],
   "source": [
    "poke.describe().quantile(.15)"
   ]
  },
  {
   "cell_type": "code",
   "execution_count": 35,
   "id": "e791d6c1",
   "metadata": {},
   "outputs": [],
   "source": [
    "# Calculate the second quartile (or the median) for the special defense (SpDef) column\n",
    "\n",
    "# Calculate the median of the same column using the method shown above. \n",
    "# Are the values the same? "
   ]
  },
  {
   "cell_type": "code",
   "execution_count": 36,
   "id": "1ef83a06",
   "metadata": {},
   "outputs": [
    {
     "data": {
      "text/plain": [
       "65.0"
      ]
     },
     "execution_count": 36,
     "metadata": {},
     "output_type": "execute_result"
    }
   ],
   "source": [
    "poke[\"SpDef\"].median()"
   ]
  },
  {
   "cell_type": "code",
   "execution_count": 37,
   "id": "bb323417",
   "metadata": {},
   "outputs": [
    {
     "data": {
      "text/plain": [
       "Num         76.000000\n",
       "Total      362.500000\n",
       "HP          62.105960\n",
       "Attack      71.274834\n",
       "Defense     66.612583\n",
       "SpAtk       66.069536\n",
       "SpDef       65.509934\n",
       "Speed       69.466887\n",
       "Stage        1.291391\n",
       "Name: 0.5, dtype: float64"
      ]
     },
     "execution_count": 37,
     "metadata": {},
     "output_type": "execute_result"
    }
   ],
   "source": [
    "poke.describe().quantile(.50)"
   ]
  },
  {
   "cell_type": "markdown",
   "id": "e1d602cd",
   "metadata": {},
   "source": [
    "## Handling and Removing Outliers\n",
    "\n",
    "***\n",
    "\n",
    "Outliers are data points that differ significantly from other data points. Outliers are an important feature of a dataset that should be identified and addressed because extreme values can influence the results of your statistics. \n",
    "\n",
    "   * In a sample of 5 students, their ages are 25, 22, 97, 23, 21 - 97 is an outlier because the value differs significantly from the remaining data.\n",
    "   * Without removing outlier, the mean is: 37.6 and the median is: 23\n",
    "   * When removing the outlier, the mean is: 22.75 and the median is: 22.5\n",
    "\n",
    "Determining which values are extreme can be challenging when you have a larger dataset. There are several methods that can be used to strategically determine which values are outliers, we will cover two separate methods below. "
   ]
  },
  {
   "cell_type": "code",
   "execution_count": 38,
   "id": "5100993b",
   "metadata": {},
   "outputs": [
    {
     "data": {
      "text/html": [
       "<div>\n",
       "<style scoped>\n",
       "    .dataframe tbody tr th:only-of-type {\n",
       "        vertical-align: middle;\n",
       "    }\n",
       "\n",
       "    .dataframe tbody tr th {\n",
       "        vertical-align: top;\n",
       "    }\n",
       "\n",
       "    .dataframe thead th {\n",
       "        text-align: right;\n",
       "    }\n",
       "</style>\n",
       "<table border=\"1\" class=\"dataframe\">\n",
       "  <thead>\n",
       "    <tr style=\"text-align: right;\">\n",
       "      <th></th>\n",
       "      <th>Employee</th>\n",
       "      <th>YearsExperience</th>\n",
       "      <th>Salary</th>\n",
       "      <th>Age</th>\n",
       "      <th>Gender</th>\n",
       "      <th>RemoteStatus</th>\n",
       "      <th>Region</th>\n",
       "      <th>CompanyCar</th>\n",
       "      <th>Shift</th>\n",
       "      <th>PerformanceReviewScore</th>\n",
       "    </tr>\n",
       "  </thead>\n",
       "  <tbody>\n",
       "    <tr>\n",
       "      <th>0</th>\n",
       "      <td>Richard</td>\n",
       "      <td>5.1</td>\n",
       "      <td>66029</td>\n",
       "      <td>41</td>\n",
       "      <td>Female</td>\n",
       "      <td>0</td>\n",
       "      <td>Central</td>\n",
       "      <td>Y</td>\n",
       "      <td>2</td>\n",
       "      <td>98.3</td>\n",
       "    </tr>\n",
       "    <tr>\n",
       "      <th>1</th>\n",
       "      <td>Nick</td>\n",
       "      <td>5.9</td>\n",
       "      <td>8136300</td>\n",
       "      <td>39</td>\n",
       "      <td>Female</td>\n",
       "      <td>0</td>\n",
       "      <td>Central</td>\n",
       "      <td>Y</td>\n",
       "      <td>3</td>\n",
       "      <td>105.7</td>\n",
       "    </tr>\n",
       "    <tr>\n",
       "      <th>2</th>\n",
       "      <td>Morgan</td>\n",
       "      <td>9.5</td>\n",
       "      <td>116969</td>\n",
       "      <td>50</td>\n",
       "      <td>Female</td>\n",
       "      <td>1</td>\n",
       "      <td>Central</td>\n",
       "      <td>N</td>\n",
       "      <td>1</td>\n",
       "      <td>145.0</td>\n",
       "    </tr>\n",
       "    <tr>\n",
       "      <th>3</th>\n",
       "      <td>Susan</td>\n",
       "      <td>3.2</td>\n",
       "      <td>64445</td>\n",
       "      <td>27</td>\n",
       "      <td>Male</td>\n",
       "      <td>0</td>\n",
       "      <td>Central</td>\n",
       "      <td>Y</td>\n",
       "      <td>3</td>\n",
       "      <td>75.1</td>\n",
       "    </tr>\n",
       "    <tr>\n",
       "      <th>4</th>\n",
       "      <td>Matthew</td>\n",
       "      <td>8.2</td>\n",
       "      <td>113812</td>\n",
       "      <td>47</td>\n",
       "      <td>Female</td>\n",
       "      <td>1</td>\n",
       "      <td>Central</td>\n",
       "      <td>N</td>\n",
       "      <td>2</td>\n",
       "      <td>131.1</td>\n",
       "    </tr>\n",
       "  </tbody>\n",
       "</table>\n",
       "</div>"
      ],
      "text/plain": [
       "  Employee  YearsExperience   Salary  Age  Gender  RemoteStatus   Region  \\\n",
       "0  Richard              5.1    66029   41  Female             0  Central   \n",
       "1     Nick              5.9  8136300   39  Female             0  Central   \n",
       "2   Morgan              9.5   116969   50  Female             1  Central   \n",
       "3    Susan              3.2    64445   27    Male             0  Central   \n",
       "4  Matthew              8.2   113812   47  Female             1  Central   \n",
       "\n",
       "  CompanyCar  Shift  PerformanceReviewScore  \n",
       "0          Y      2                    98.3  \n",
       "1          Y      3                   105.7  \n",
       "2          N      1                   145.0  \n",
       "3          Y      3                    75.1  \n",
       "4          N      2                   131.1  "
      ]
     },
     "execution_count": 38,
     "metadata": {},
     "output_type": "execute_result"
    }
   ],
   "source": [
    "df = pd.read_csv(\"SalaryData.csv\")\n",
    "df.head()"
   ]
  },
  {
   "cell_type": "markdown",
   "id": "4e2bbacb",
   "metadata": {},
   "source": [
    "## Method 1 : Using z-scores to detect and remove outliers\n",
    "\n",
    "In statistics, the <font color=salmon><b>Empirical Rule</b></font> estimates how data, following a normal distribution, will spread around the mean. According to this rule, basically all data values will fall within 3 SD's above or below the mean. The Empirical Rule is also known as the <font color=salmon><b>68-95-99.7 Rule</b></font> because according to this rule, your data will typically fall into the following pattern:\n",
    "\n",
    "* 68% of the data falls within one SD of the mean\n",
    "\n",
    "* 95% of the data falls within two SD's of the mean\n",
    "\n",
    "* 99.7% of the data falls within three SD's of the mean\n",
    "\n",
    "<img src=\"SD Bell Curve.jpeg\">\n",
    "\n",
    "#### Empirical Rule Example:\n",
    "\n",
    "The average weight of an American man is 175 lbs with a SD of 10 lbs. According to the Empirical Rule, we can assume: \n",
    "\n",
    "* 68% of American men are between 165 and 185 lbs (or +/- 10 lbs from the mean, or 1 SD)\n",
    "* 95% of American men are between 155 and 195 lbs (or +/- 20 lbs from the mean, or 2 SD's)\n",
    "* 99.7% of American men are between 145 and 205 lbs (or +/- 30 lbs from the mean, or 3 SD's)\n",
    "* Typically, data values that fall outside of this range are considered outliers\n",
    "_______________________ \n",
    "A <font color=salmon><b>z-score</b></font>, also known as a standard score, measures the distance of a value from the mean. In other words, the z-score tells you how many SD's a given value is from the mean. Values that fall above the mean will have a positive (+) z-score, while values that fall below the mean will have a negative (-) z-score. Values that are far from the mean will be considered outliers. You can define a value as an outlier if the z-score greater than +/- 3. \n",
    "_______________________ \n",
    "\n",
    "#### Steps for Detecting and Removing Outliers with z-scores\n",
    "* Import the scipy library to make use of the z-score function\n",
    "* Calculate the z-score for each value within a specific column in your dataset\n",
    "* Transform the z-score to the absolute value of the z-score (number without the +/- sign; this will make our code simpler)\n",
    "* Add the z-scores to your dataset as a new column\n",
    "* Remove all rows that have a z-score greater than 3"
   ]
  },
  {
   "cell_type": "code",
   "execution_count": 39,
   "id": "c44567cf",
   "metadata": {},
   "outputs": [
    {
     "name": "stdout",
     "output_type": "stream",
     "text": [
      "(30, 10)\n"
     ]
    }
   ],
   "source": [
    "## Create a copy of your dataset to filter outliers\n",
    "dfz = df.copy()\n",
    "\n",
    "## Check original shape of the dataset\n",
    "print(dfz.shape)"
   ]
  },
  {
   "cell_type": "code",
   "execution_count": 40,
   "id": "61292858",
   "metadata": {},
   "outputs": [
    {
     "data": {
      "text/html": [
       "<div>\n",
       "<style scoped>\n",
       "    .dataframe tbody tr th:only-of-type {\n",
       "        vertical-align: middle;\n",
       "    }\n",
       "\n",
       "    .dataframe tbody tr th {\n",
       "        vertical-align: top;\n",
       "    }\n",
       "\n",
       "    .dataframe thead th {\n",
       "        text-align: right;\n",
       "    }\n",
       "</style>\n",
       "<table border=\"1\" class=\"dataframe\">\n",
       "  <thead>\n",
       "    <tr style=\"text-align: right;\">\n",
       "      <th></th>\n",
       "      <th>Employee</th>\n",
       "      <th>YearsExperience</th>\n",
       "      <th>Salary</th>\n",
       "      <th>Age</th>\n",
       "      <th>Gender</th>\n",
       "      <th>RemoteStatus</th>\n",
       "      <th>Region</th>\n",
       "      <th>CompanyCar</th>\n",
       "      <th>Shift</th>\n",
       "      <th>PerformanceReviewScore</th>\n",
       "      <th>zscore_salary</th>\n",
       "    </tr>\n",
       "  </thead>\n",
       "  <tbody>\n",
       "    <tr>\n",
       "      <th>0</th>\n",
       "      <td>Richard</td>\n",
       "      <td>5.1</td>\n",
       "      <td>66029</td>\n",
       "      <td>41</td>\n",
       "      <td>Female</td>\n",
       "      <td>0</td>\n",
       "      <td>Central</td>\n",
       "      <td>Y</td>\n",
       "      <td>2</td>\n",
       "      <td>98.3</td>\n",
       "      <td>0.269844</td>\n",
       "    </tr>\n",
       "    <tr>\n",
       "      <th>1</th>\n",
       "      <td>Nick</td>\n",
       "      <td>5.9</td>\n",
       "      <td>8136300</td>\n",
       "      <td>39</td>\n",
       "      <td>Female</td>\n",
       "      <td>0</td>\n",
       "      <td>Central</td>\n",
       "      <td>Y</td>\n",
       "      <td>3</td>\n",
       "      <td>105.7</td>\n",
       "      <td>3.343557</td>\n",
       "    </tr>\n",
       "    <tr>\n",
       "      <th>2</th>\n",
       "      <td>Morgan</td>\n",
       "      <td>9.5</td>\n",
       "      <td>116969</td>\n",
       "      <td>50</td>\n",
       "      <td>Female</td>\n",
       "      <td>1</td>\n",
       "      <td>Central</td>\n",
       "      <td>N</td>\n",
       "      <td>1</td>\n",
       "      <td>145.0</td>\n",
       "      <td>0.247036</td>\n",
       "    </tr>\n",
       "    <tr>\n",
       "      <th>3</th>\n",
       "      <td>Susan</td>\n",
       "      <td>3.2</td>\n",
       "      <td>64445</td>\n",
       "      <td>27</td>\n",
       "      <td>Male</td>\n",
       "      <td>0</td>\n",
       "      <td>Central</td>\n",
       "      <td>Y</td>\n",
       "      <td>3</td>\n",
       "      <td>75.1</td>\n",
       "      <td>0.270553</td>\n",
       "    </tr>\n",
       "    <tr>\n",
       "      <th>4</th>\n",
       "      <td>Matthew</td>\n",
       "      <td>8.2</td>\n",
       "      <td>113812</td>\n",
       "      <td>47</td>\n",
       "      <td>Female</td>\n",
       "      <td>1</td>\n",
       "      <td>Central</td>\n",
       "      <td>N</td>\n",
       "      <td>2</td>\n",
       "      <td>131.1</td>\n",
       "      <td>0.248449</td>\n",
       "    </tr>\n",
       "  </tbody>\n",
       "</table>\n",
       "</div>"
      ],
      "text/plain": [
       "  Employee  YearsExperience   Salary  Age  Gender  RemoteStatus   Region  \\\n",
       "0  Richard              5.1    66029   41  Female             0  Central   \n",
       "1     Nick              5.9  8136300   39  Female             0  Central   \n",
       "2   Morgan              9.5   116969   50  Female             1  Central   \n",
       "3    Susan              3.2    64445   27    Male             0  Central   \n",
       "4  Matthew              8.2   113812   47  Female             1  Central   \n",
       "\n",
       "  CompanyCar  Shift  PerformanceReviewScore  zscore_salary  \n",
       "0          Y      2                    98.3       0.269844  \n",
       "1          Y      3                   105.7       3.343557  \n",
       "2          N      1                   145.0       0.247036  \n",
       "3          Y      3                    75.1       0.270553  \n",
       "4          N      2                   131.1       0.248449  "
      ]
     },
     "execution_count": 40,
     "metadata": {},
     "output_type": "execute_result"
    }
   ],
   "source": [
    "## Create a new column to contain the z-scores for the employee salary\n",
    "## Set the new column equal to the absolute value of the z-scores\n",
    "## To calculate z-score -- stats.zscore(data/column name)\n",
    "## To determine absolute value of z-score -- np.abs(data/function/options)\n",
    " \n",
    "dfz[\"zscore_salary\"] = np.abs(stats.zscore(dfz[\"Salary\"]))\n",
    "\n",
    "## Preview new column; optional\n",
    "dfz.head()"
   ]
  },
  {
   "cell_type": "code",
   "execution_count": 41,
   "id": "e61532ef",
   "metadata": {},
   "outputs": [
    {
     "name": "stdout",
     "output_type": "stream",
     "text": [
      "Int64Index([1, 28], dtype='int64')\n"
     ]
    }
   ],
   "source": [
    "## Determine the index locations for the rows with zscores that are greater than \"3\"\n",
    "z_outliers = dfz.loc[dfz[\"zscore_salary\"] > 3].index\n",
    "\n",
    "## Preview list of index values\n",
    "print(z_outliers)"
   ]
  },
  {
   "cell_type": "code",
   "execution_count": 42,
   "id": "0efe5df5",
   "metadata": {},
   "outputs": [
    {
     "data": {
      "text/html": [
       "<div>\n",
       "<style scoped>\n",
       "    .dataframe tbody tr th:only-of-type {\n",
       "        vertical-align: middle;\n",
       "    }\n",
       "\n",
       "    .dataframe tbody tr th {\n",
       "        vertical-align: top;\n",
       "    }\n",
       "\n",
       "    .dataframe thead th {\n",
       "        text-align: right;\n",
       "    }\n",
       "</style>\n",
       "<table border=\"1\" class=\"dataframe\">\n",
       "  <thead>\n",
       "    <tr style=\"text-align: right;\">\n",
       "      <th></th>\n",
       "      <th>Employee</th>\n",
       "      <th>YearsExperience</th>\n",
       "      <th>Salary</th>\n",
       "      <th>Age</th>\n",
       "      <th>Gender</th>\n",
       "      <th>RemoteStatus</th>\n",
       "      <th>Region</th>\n",
       "      <th>CompanyCar</th>\n",
       "      <th>Shift</th>\n",
       "      <th>PerformanceReviewScore</th>\n",
       "      <th>zscore_salary</th>\n",
       "    </tr>\n",
       "  </thead>\n",
       "  <tbody>\n",
       "    <tr>\n",
       "      <th>1</th>\n",
       "      <td>Nick</td>\n",
       "      <td>5.9</td>\n",
       "      <td>8136300</td>\n",
       "      <td>39</td>\n",
       "      <td>Female</td>\n",
       "      <td>0</td>\n",
       "      <td>Central</td>\n",
       "      <td>Y</td>\n",
       "      <td>3</td>\n",
       "      <td>105.7</td>\n",
       "      <td>3.343557</td>\n",
       "    </tr>\n",
       "    <tr>\n",
       "      <th>28</th>\n",
       "      <td>Bill</td>\n",
       "      <td>7.1</td>\n",
       "      <td>9827300</td>\n",
       "      <td>36</td>\n",
       "      <td>Female</td>\n",
       "      <td>0</td>\n",
       "      <td>East</td>\n",
       "      <td>Y</td>\n",
       "      <td>3</td>\n",
       "      <td>116.8</td>\n",
       "      <td>4.100689</td>\n",
       "    </tr>\n",
       "  </tbody>\n",
       "</table>\n",
       "</div>"
      ],
      "text/plain": [
       "   Employee  YearsExperience   Salary  Age  Gender  RemoteStatus   Region  \\\n",
       "1      Nick              5.9  8136300   39  Female             0  Central   \n",
       "28     Bill              7.1  9827300   36  Female             0     East   \n",
       "\n",
       "   CompanyCar  Shift  PerformanceReviewScore  zscore_salary  \n",
       "1           Y      3                   105.7       3.343557  \n",
       "28          Y      3                   116.8       4.100689  "
      ]
     },
     "execution_count": 42,
     "metadata": {},
     "output_type": "execute_result"
    }
   ],
   "source": [
    "## What information can we find at these index locations?\n",
    "\n",
    "dfz.iloc[[1, 28]]"
   ]
  },
  {
   "cell_type": "code",
   "execution_count": 43,
   "id": "7e5df5c5",
   "metadata": {},
   "outputs": [
    {
     "name": "stdout",
     "output_type": "stream",
     "text": [
      "(28, 11)\n"
     ]
    }
   ],
   "source": [
    "## Drop rows with above index values\n",
    "dfz = dfz.drop(z_outliers)\n",
    "\n",
    "## Re-check the shape of the dataframe, how many rows were dropped?\n",
    "print(dfz.shape)"
   ]
  },
  {
   "cell_type": "markdown",
   "id": "93017c0c",
   "metadata": {},
   "source": [
    "## Method 2 : Using the Interquartile Range (IQR) to detect and remove outliers\n",
    "\n",
    "The <font color=salmon><b>Interquartile Range (IQR)</b></font> is the difference between the first and third quartile in a set of data. The IQR can be considered where the bulk of the data values rest. IQR is calculated by the following equation: <B>IQR = Q3 - Q1</B>\n",
    "<img src=\"IQR.png\">\n",
    "_____________________\n",
    "\n",
    "The IQR can be used to create \"fences\" or cut-off values that determine which values fall outside of the acceptable data range. For example, we can calculate a lower-limit -- all values falling below this limit will be considered an outlier. The <b>1.5 Rule</b> is a commonly used method for determining the upper and lower cut-off limits. According to this rule, a value is considered an outlier if it falls:\n",
    "\n",
    "* ... below Q1 - (1.5 x IQR)\n",
    "\n",
    "* ... above Q3 + (1.5 x IQR)\n",
    "_____________________\n",
    "\n",
    "#### 1.5 Rule Example:\n",
    "\n",
    "A professor is tracking the number of absences for each of their students. They have compiled a list of the number of absences: \n",
    "\n",
    "    1, 3, [4], 6, 7, [7], 8, 8, [9], 22, 37 \n",
    "\n",
    "In this list of data, we can find the following values:\n",
    "\n",
    "* Q1 = 4\n",
    "* Q2 (median) = 7\n",
    "* Q3 = 9\n",
    "\n",
    "With these values, you can easily calculate the IQR:\n",
    "\n",
    "* <B>IQR</B> = Q3(9) - Q1(4)\n",
    "* <B>IQR</B> = 5\n",
    "\n",
    "Once you have the IQR, you can calculate the upper and lower limits for detecting outliers:\n",
    "\n",
    "* Upper Limit = Q3(9) + [1.5 * IQR(5)] = <b> 16.5 </b>\n",
    "* Lower Limit = Q1(4) - [1.5 * IQR(5)] = <b> -3.5 </b>\n",
    "\n",
    "Values that fall above the upper limit are outliers; values that fall below the lower limit are outliers\n",
    "_______________________ \n",
    "\n",
    "#### Steps for Detecting and Removing Outliers with IQR\n",
    "\n",
    "* Calculate quartiles\n",
    "* Calculate IQR\n",
    "* Determine upper and lower limits\n",
    "* Drop values less than the lower and/or greater than the upper"
   ]
  },
  {
   "cell_type": "code",
   "execution_count": 44,
   "id": "8694f11b",
   "metadata": {},
   "outputs": [
    {
     "data": {
      "text/plain": [
       "(30, 10)"
      ]
     },
     "execution_count": 44,
     "metadata": {},
     "output_type": "execute_result"
    }
   ],
   "source": [
    "## Create a copy of original dataset\n",
    "dfq = df.copy()\n",
    "\n",
    "## Check original shape of the dataset\n",
    "dfq.shape"
   ]
  },
  {
   "cell_type": "code",
   "execution_count": 45,
   "id": "e84c2fe4",
   "metadata": {},
   "outputs": [
    {
     "name": "stdout",
     "output_type": "stream",
     "text": [
      "Q1: 48265.0\n",
      "Q3: 104512.0\n"
     ]
    }
   ],
   "source": [
    "## Calculate quartiles\n",
    "q1 = dfq[\"Salary\"].quantile(.25)\n",
    "q3 = dfq[\"Salary\"].quantile(.75)\n",
    "\n",
    "print(\"Q1:\", q1)\n",
    "print(\"Q3:\", q3)"
   ]
  },
  {
   "cell_type": "code",
   "execution_count": 46,
   "id": "9b36fb73",
   "metadata": {},
   "outputs": [
    {
     "name": "stdout",
     "output_type": "stream",
     "text": [
      "IQR: 56247.0\n"
     ]
    }
   ],
   "source": [
    "## Calculate the IQR\n",
    "iqr = q3 - q1\n",
    "\n",
    "print(\"IQR:\", iqr)"
   ]
  },
  {
   "cell_type": "code",
   "execution_count": 47,
   "id": "50fabd5f",
   "metadata": {},
   "outputs": [
    {
     "name": "stdout",
     "output_type": "stream",
     "text": [
      "Upper Limit: 188882.5\n",
      "Lower Limit: -36105.5\n"
     ]
    }
   ],
   "source": [
    "## Determine outlier fences \n",
    "top = q3 + (iqr * 1.5)\n",
    "bottom = q1 - (iqr * 1.5)\n",
    "\n",
    "\n",
    "print(\"Upper Limit:\", top)\n",
    "print(\"Lower Limit:\", bottom)"
   ]
  },
  {
   "cell_type": "code",
   "execution_count": 48,
   "id": "3040926b",
   "metadata": {},
   "outputs": [
    {
     "name": "stdout",
     "output_type": "stream",
     "text": [
      "INDEX VALUES: Int64Index([1, 12, 28], dtype='int64')\n"
     ]
    }
   ],
   "source": [
    "## Determine the index locations for rows that fall outside of outlier fences\n",
    "\n",
    "iqr_outliers = dfq.loc[(dfq['Salary'] > top) | (dfq['Salary'] < bottom)].index\n",
    "\n",
    "print(\"INDEX VALUES:\", iqr_outliers)"
   ]
  },
  {
   "cell_type": "code",
   "execution_count": 49,
   "id": "49d819df",
   "metadata": {},
   "outputs": [
    {
     "data": {
      "text/html": [
       "<div>\n",
       "<style scoped>\n",
       "    .dataframe tbody tr th:only-of-type {\n",
       "        vertical-align: middle;\n",
       "    }\n",
       "\n",
       "    .dataframe tbody tr th {\n",
       "        vertical-align: top;\n",
       "    }\n",
       "\n",
       "    .dataframe thead th {\n",
       "        text-align: right;\n",
       "    }\n",
       "</style>\n",
       "<table border=\"1\" class=\"dataframe\">\n",
       "  <thead>\n",
       "    <tr style=\"text-align: right;\">\n",
       "      <th></th>\n",
       "      <th>Employee</th>\n",
       "      <th>YearsExperience</th>\n",
       "      <th>Salary</th>\n",
       "      <th>Age</th>\n",
       "      <th>Gender</th>\n",
       "      <th>RemoteStatus</th>\n",
       "      <th>Region</th>\n",
       "      <th>CompanyCar</th>\n",
       "      <th>Shift</th>\n",
       "      <th>PerformanceReviewScore</th>\n",
       "    </tr>\n",
       "  </thead>\n",
       "  <tbody>\n",
       "    <tr>\n",
       "      <th>1</th>\n",
       "      <td>Nick</td>\n",
       "      <td>5.9</td>\n",
       "      <td>8136300</td>\n",
       "      <td>39</td>\n",
       "      <td>Female</td>\n",
       "      <td>0</td>\n",
       "      <td>Central</td>\n",
       "      <td>Y</td>\n",
       "      <td>3</td>\n",
       "      <td>105.7</td>\n",
       "    </tr>\n",
       "    <tr>\n",
       "      <th>12</th>\n",
       "      <td>Thomas</td>\n",
       "      <td>1.5</td>\n",
       "      <td>377310</td>\n",
       "      <td>46</td>\n",
       "      <td>Male</td>\n",
       "      <td>1</td>\n",
       "      <td>Central</td>\n",
       "      <td>Y</td>\n",
       "      <td>1</td>\n",
       "      <td>63.8</td>\n",
       "    </tr>\n",
       "    <tr>\n",
       "      <th>28</th>\n",
       "      <td>Bill</td>\n",
       "      <td>7.1</td>\n",
       "      <td>9827300</td>\n",
       "      <td>36</td>\n",
       "      <td>Female</td>\n",
       "      <td>0</td>\n",
       "      <td>East</td>\n",
       "      <td>Y</td>\n",
       "      <td>3</td>\n",
       "      <td>116.8</td>\n",
       "    </tr>\n",
       "  </tbody>\n",
       "</table>\n",
       "</div>"
      ],
      "text/plain": [
       "   Employee  YearsExperience   Salary  Age  Gender  RemoteStatus   Region  \\\n",
       "1      Nick              5.9  8136300   39  Female             0  Central   \n",
       "12   Thomas              1.5   377310   46    Male             1  Central   \n",
       "28     Bill              7.1  9827300   36  Female             0     East   \n",
       "\n",
       "   CompanyCar  Shift  PerformanceReviewScore  \n",
       "1           Y      3                   105.7  \n",
       "12          Y      1                    63.8  \n",
       "28          Y      3                   116.8  "
      ]
     },
     "execution_count": 49,
     "metadata": {},
     "output_type": "execute_result"
    }
   ],
   "source": [
    "## what values can we find at these index locations?\n",
    "\n",
    "dfq.iloc[[1, 12, 28]]"
   ]
  },
  {
   "cell_type": "code",
   "execution_count": 50,
   "id": "23df0d4a",
   "metadata": {},
   "outputs": [
    {
     "name": "stdout",
     "output_type": "stream",
     "text": [
      "(27, 10)\n"
     ]
    }
   ],
   "source": [
    "## Drop rows with above index values\n",
    "dfq = dfq.drop(iqr_outliers)\n",
    "\n",
    "## Re-check the shape of the dataframe, how many rows were dropped?\n",
    "print(dfq.shape)"
   ]
  },
  {
   "cell_type": "markdown",
   "id": "6e148156",
   "metadata": {},
   "source": [
    "# { Module 10 Homework }"
   ]
  },
  {
   "cell_type": "markdown",
   "id": "736faa7d",
   "metadata": {},
   "source": [
    "1. Import the \"babies.xlsx\" dataset. See below for information on the columns:\n",
    "\n",
    "    * bwt - birth weight of newborn baby\n",
    "    * gestation\t- gestation length (weeks)\n",
    "    * parity - previously pregnant (0 = no; 1 = yes)\n",
    "    * age - age of mother\n",
    "    * height - height of mother (inches)\t\n",
    "    * weight - weight of mother (pounds)\n",
    "    * smoke - smoking status of mother (0 = nonsmoker; 1 = smoker)"
   ]
  },
  {
   "cell_type": "code",
   "execution_count": 51,
   "id": "ac6ef2f4",
   "metadata": {},
   "outputs": [
    {
     "data": {
      "text/html": [
       "<div>\n",
       "<style scoped>\n",
       "    .dataframe tbody tr th:only-of-type {\n",
       "        vertical-align: middle;\n",
       "    }\n",
       "\n",
       "    .dataframe tbody tr th {\n",
       "        vertical-align: top;\n",
       "    }\n",
       "\n",
       "    .dataframe thead th {\n",
       "        text-align: right;\n",
       "    }\n",
       "</style>\n",
       "<table border=\"1\" class=\"dataframe\">\n",
       "  <thead>\n",
       "    <tr style=\"text-align: right;\">\n",
       "      <th></th>\n",
       "      <th>bwt</th>\n",
       "      <th>gestation</th>\n",
       "      <th>parity</th>\n",
       "      <th>age</th>\n",
       "      <th>height</th>\n",
       "      <th>weight</th>\n",
       "      <th>smoke</th>\n",
       "    </tr>\n",
       "  </thead>\n",
       "  <tbody>\n",
       "    <tr>\n",
       "      <th>0</th>\n",
       "      <td>120</td>\n",
       "      <td>284.0</td>\n",
       "      <td>0</td>\n",
       "      <td>27.0</td>\n",
       "      <td>62.0</td>\n",
       "      <td>100.0</td>\n",
       "      <td>0.0</td>\n",
       "    </tr>\n",
       "    <tr>\n",
       "      <th>1</th>\n",
       "      <td>113</td>\n",
       "      <td>282.0</td>\n",
       "      <td>0</td>\n",
       "      <td>33.0</td>\n",
       "      <td>64.0</td>\n",
       "      <td>135.0</td>\n",
       "      <td>0.0</td>\n",
       "    </tr>\n",
       "    <tr>\n",
       "      <th>2</th>\n",
       "      <td>128</td>\n",
       "      <td>279.0</td>\n",
       "      <td>0</td>\n",
       "      <td>28.0</td>\n",
       "      <td>64.0</td>\n",
       "      <td>77.0</td>\n",
       "      <td>1.0</td>\n",
       "    </tr>\n",
       "    <tr>\n",
       "      <th>3</th>\n",
       "      <td>123</td>\n",
       "      <td>NaN</td>\n",
       "      <td>0</td>\n",
       "      <td>36.0</td>\n",
       "      <td>69.0</td>\n",
       "      <td>190.0</td>\n",
       "      <td>0.0</td>\n",
       "    </tr>\n",
       "    <tr>\n",
       "      <th>4</th>\n",
       "      <td>108</td>\n",
       "      <td>282.0</td>\n",
       "      <td>0</td>\n",
       "      <td>23.0</td>\n",
       "      <td>67.0</td>\n",
       "      <td>125.0</td>\n",
       "      <td>1.0</td>\n",
       "    </tr>\n",
       "  </tbody>\n",
       "</table>\n",
       "</div>"
      ],
      "text/plain": [
       "   bwt  gestation  parity   age  height  weight  smoke\n",
       "0  120      284.0       0  27.0    62.0   100.0    0.0\n",
       "1  113      282.0       0  33.0    64.0   135.0    0.0\n",
       "2  128      279.0       0  28.0    64.0    77.0    1.0\n",
       "3  123        NaN       0  36.0    69.0   190.0    0.0\n",
       "4  108      282.0       0  23.0    67.0   125.0    1.0"
      ]
     },
     "execution_count": 51,
     "metadata": {},
     "output_type": "execute_result"
    }
   ],
   "source": [
    "df = pd.read_excel(\"babies.xlsx\")\n",
    "df.head()"
   ]
  },
  {
   "cell_type": "markdown",
   "id": "e04bfa22",
   "metadata": {},
   "source": [
    "2. Preview the first few rows of the dataset. Complete the following checks for your dataset:\n",
    "\n",
    "    * output the summary information for the dataset, what types of variables make up this dataset?\n",
    "    * is there any missing data in this dataset?"
   ]
  },
  {
   "cell_type": "code",
   "execution_count": 52,
   "id": "d86263ee",
   "metadata": {},
   "outputs": [
    {
     "name": "stdout",
     "output_type": "stream",
     "text": [
      "<class 'pandas.core.frame.DataFrame'>\n",
      "RangeIndex: 1236 entries, 0 to 1235\n",
      "Data columns (total 7 columns):\n",
      " #   Column     Non-Null Count  Dtype  \n",
      "---  ------     --------------  -----  \n",
      " 0   bwt        1236 non-null   int64  \n",
      " 1   gestation  1223 non-null   float64\n",
      " 2   parity     1236 non-null   int64  \n",
      " 3   age        1234 non-null   float64\n",
      " 4   height     1214 non-null   float64\n",
      " 5   weight     1200 non-null   float64\n",
      " 6   smoke      1226 non-null   float64\n",
      "dtypes: float64(5), int64(2)\n",
      "memory usage: 67.7 KB\n"
     ]
    }
   ],
   "source": [
    "df.info()"
   ]
  },
  {
   "cell_type": "code",
   "execution_count": 53,
   "id": "250660e0",
   "metadata": {},
   "outputs": [
    {
     "data": {
      "text/html": [
       "<div>\n",
       "<style scoped>\n",
       "    .dataframe tbody tr th:only-of-type {\n",
       "        vertical-align: middle;\n",
       "    }\n",
       "\n",
       "    .dataframe tbody tr th {\n",
       "        vertical-align: top;\n",
       "    }\n",
       "\n",
       "    .dataframe thead th {\n",
       "        text-align: right;\n",
       "    }\n",
       "</style>\n",
       "<table border=\"1\" class=\"dataframe\">\n",
       "  <thead>\n",
       "    <tr style=\"text-align: right;\">\n",
       "      <th></th>\n",
       "      <th>bwt</th>\n",
       "      <th>gestation</th>\n",
       "      <th>parity</th>\n",
       "      <th>age</th>\n",
       "      <th>height</th>\n",
       "      <th>weight</th>\n",
       "      <th>smoke</th>\n",
       "    </tr>\n",
       "  </thead>\n",
       "  <tbody>\n",
       "    <tr>\n",
       "      <th>count</th>\n",
       "      <td>1236.000000</td>\n",
       "      <td>1223.000000</td>\n",
       "      <td>1236.000000</td>\n",
       "      <td>1234.000000</td>\n",
       "      <td>1214.000000</td>\n",
       "      <td>1200.000000</td>\n",
       "      <td>1226.000000</td>\n",
       "    </tr>\n",
       "    <tr>\n",
       "      <th>mean</th>\n",
       "      <td>119.576861</td>\n",
       "      <td>279.338512</td>\n",
       "      <td>0.254854</td>\n",
       "      <td>27.255267</td>\n",
       "      <td>64.047776</td>\n",
       "      <td>131.411667</td>\n",
       "      <td>0.394780</td>\n",
       "    </tr>\n",
       "    <tr>\n",
       "      <th>std</th>\n",
       "      <td>18.236452</td>\n",
       "      <td>16.027693</td>\n",
       "      <td>0.435956</td>\n",
       "      <td>5.781405</td>\n",
       "      <td>2.533409</td>\n",
       "      <td>53.687343</td>\n",
       "      <td>0.489003</td>\n",
       "    </tr>\n",
       "    <tr>\n",
       "      <th>min</th>\n",
       "      <td>55.000000</td>\n",
       "      <td>148.000000</td>\n",
       "      <td>0.000000</td>\n",
       "      <td>15.000000</td>\n",
       "      <td>53.000000</td>\n",
       "      <td>27.000000</td>\n",
       "      <td>0.000000</td>\n",
       "    </tr>\n",
       "    <tr>\n",
       "      <th>25%</th>\n",
       "      <td>108.750000</td>\n",
       "      <td>272.000000</td>\n",
       "      <td>0.000000</td>\n",
       "      <td>23.000000</td>\n",
       "      <td>62.000000</td>\n",
       "      <td>114.000000</td>\n",
       "      <td>0.000000</td>\n",
       "    </tr>\n",
       "    <tr>\n",
       "      <th>50%</th>\n",
       "      <td>120.000000</td>\n",
       "      <td>280.000000</td>\n",
       "      <td>0.000000</td>\n",
       "      <td>26.000000</td>\n",
       "      <td>64.000000</td>\n",
       "      <td>125.000000</td>\n",
       "      <td>0.000000</td>\n",
       "    </tr>\n",
       "    <tr>\n",
       "      <th>75%</th>\n",
       "      <td>131.000000</td>\n",
       "      <td>288.000000</td>\n",
       "      <td>1.000000</td>\n",
       "      <td>31.000000</td>\n",
       "      <td>66.000000</td>\n",
       "      <td>140.000000</td>\n",
       "      <td>1.000000</td>\n",
       "    </tr>\n",
       "    <tr>\n",
       "      <th>max</th>\n",
       "      <td>176.000000</td>\n",
       "      <td>353.000000</td>\n",
       "      <td>1.000000</td>\n",
       "      <td>45.000000</td>\n",
       "      <td>72.000000</td>\n",
       "      <td>1500.000000</td>\n",
       "      <td>1.000000</td>\n",
       "    </tr>\n",
       "  </tbody>\n",
       "</table>\n",
       "</div>"
      ],
      "text/plain": [
       "               bwt    gestation       parity          age       height  \\\n",
       "count  1236.000000  1223.000000  1236.000000  1234.000000  1214.000000   \n",
       "mean    119.576861   279.338512     0.254854    27.255267    64.047776   \n",
       "std      18.236452    16.027693     0.435956     5.781405     2.533409   \n",
       "min      55.000000   148.000000     0.000000    15.000000    53.000000   \n",
       "25%     108.750000   272.000000     0.000000    23.000000    62.000000   \n",
       "50%     120.000000   280.000000     0.000000    26.000000    64.000000   \n",
       "75%     131.000000   288.000000     1.000000    31.000000    66.000000   \n",
       "max     176.000000   353.000000     1.000000    45.000000    72.000000   \n",
       "\n",
       "            weight        smoke  \n",
       "count  1200.000000  1226.000000  \n",
       "mean    131.411667     0.394780  \n",
       "std      53.687343     0.489003  \n",
       "min      27.000000     0.000000  \n",
       "25%     114.000000     0.000000  \n",
       "50%     125.000000     0.000000  \n",
       "75%     140.000000     1.000000  \n",
       "max    1500.000000     1.000000  "
      ]
     },
     "execution_count": 53,
     "metadata": {},
     "output_type": "execute_result"
    }
   ],
   "source": [
    "df.describe()"
   ]
  },
  {
   "cell_type": "markdown",
   "id": "f2a9f160",
   "metadata": {},
   "source": [
    "3. Handle the missing data in the dataset -- there isn't much, so we can drop all the rows that have at least one missing value. How many rows were dropped from the dataset?"
   ]
  },
  {
   "cell_type": "code",
   "execution_count": 54,
   "id": "9b362c54",
   "metadata": {},
   "outputs": [
    {
     "data": {
      "text/plain": [
       "bwt           0\n",
       "gestation    13\n",
       "parity        0\n",
       "age           2\n",
       "height       22\n",
       "weight       36\n",
       "smoke        10\n",
       "dtype: int64"
      ]
     },
     "execution_count": 54,
     "metadata": {},
     "output_type": "execute_result"
    }
   ],
   "source": [
    "df.isnull().sum()"
   ]
  },
  {
   "cell_type": "markdown",
   "id": "562e6e31",
   "metadata": {},
   "source": [
    "4. There are two qualitative variables in this dataset. What are they? How do you know they are qualitative variables?"
   ]
  },
  {
   "cell_type": "code",
   "execution_count": 55,
   "id": "d52b1b11",
   "metadata": {},
   "outputs": [],
   "source": [
    "# The two qualitative variables in this dataset are smoke and parity"
   ]
  },
  {
   "cell_type": "markdown",
   "id": "eaee4ec8",
   "metadata": {},
   "source": [
    "5. Replace the values in the qualitative variables with meaningful labels that describe the different groups. Use any method you've learned in previous modules to complete this task. "
   ]
  },
  {
   "cell_type": "code",
   "execution_count": 56,
   "id": "3e8abc37",
   "metadata": {},
   "outputs": [
    {
     "data": {
      "text/html": [
       "<div>\n",
       "<style scoped>\n",
       "    .dataframe tbody tr th:only-of-type {\n",
       "        vertical-align: middle;\n",
       "    }\n",
       "\n",
       "    .dataframe tbody tr th {\n",
       "        vertical-align: top;\n",
       "    }\n",
       "\n",
       "    .dataframe thead th {\n",
       "        text-align: right;\n",
       "    }\n",
       "</style>\n",
       "<table border=\"1\" class=\"dataframe\">\n",
       "  <thead>\n",
       "    <tr style=\"text-align: right;\">\n",
       "      <th></th>\n",
       "      <th>bwt</th>\n",
       "      <th>gestation</th>\n",
       "      <th>parity</th>\n",
       "      <th>age</th>\n",
       "      <th>height</th>\n",
       "      <th>weight</th>\n",
       "      <th>smoke</th>\n",
       "    </tr>\n",
       "  </thead>\n",
       "  <tbody>\n",
       "    <tr>\n",
       "      <th>0</th>\n",
       "      <td>120</td>\n",
       "      <td>284.0</td>\n",
       "      <td>No</td>\n",
       "      <td>27.0</td>\n",
       "      <td>62.0</td>\n",
       "      <td>100.0</td>\n",
       "      <td>No</td>\n",
       "    </tr>\n",
       "    <tr>\n",
       "      <th>1</th>\n",
       "      <td>113</td>\n",
       "      <td>282.0</td>\n",
       "      <td>No</td>\n",
       "      <td>33.0</td>\n",
       "      <td>64.0</td>\n",
       "      <td>135.0</td>\n",
       "      <td>No</td>\n",
       "    </tr>\n",
       "    <tr>\n",
       "      <th>2</th>\n",
       "      <td>128</td>\n",
       "      <td>279.0</td>\n",
       "      <td>No</td>\n",
       "      <td>28.0</td>\n",
       "      <td>64.0</td>\n",
       "      <td>77.0</td>\n",
       "      <td>Yes</td>\n",
       "    </tr>\n",
       "    <tr>\n",
       "      <th>3</th>\n",
       "      <td>123</td>\n",
       "      <td>NaN</td>\n",
       "      <td>No</td>\n",
       "      <td>36.0</td>\n",
       "      <td>69.0</td>\n",
       "      <td>190.0</td>\n",
       "      <td>No</td>\n",
       "    </tr>\n",
       "    <tr>\n",
       "      <th>4</th>\n",
       "      <td>108</td>\n",
       "      <td>282.0</td>\n",
       "      <td>No</td>\n",
       "      <td>23.0</td>\n",
       "      <td>67.0</td>\n",
       "      <td>125.0</td>\n",
       "      <td>Yes</td>\n",
       "    </tr>\n",
       "    <tr>\n",
       "      <th>...</th>\n",
       "      <td>...</td>\n",
       "      <td>...</td>\n",
       "      <td>...</td>\n",
       "      <td>...</td>\n",
       "      <td>...</td>\n",
       "      <td>...</td>\n",
       "      <td>...</td>\n",
       "    </tr>\n",
       "    <tr>\n",
       "      <th>1231</th>\n",
       "      <td>113</td>\n",
       "      <td>275.0</td>\n",
       "      <td>Yes</td>\n",
       "      <td>27.0</td>\n",
       "      <td>60.0</td>\n",
       "      <td>100.0</td>\n",
       "      <td>No</td>\n",
       "    </tr>\n",
       "    <tr>\n",
       "      <th>1232</th>\n",
       "      <td>128</td>\n",
       "      <td>265.0</td>\n",
       "      <td>No</td>\n",
       "      <td>24.0</td>\n",
       "      <td>67.0</td>\n",
       "      <td>120.0</td>\n",
       "      <td>No</td>\n",
       "    </tr>\n",
       "    <tr>\n",
       "      <th>1233</th>\n",
       "      <td>130</td>\n",
       "      <td>291.0</td>\n",
       "      <td>No</td>\n",
       "      <td>30.0</td>\n",
       "      <td>65.0</td>\n",
       "      <td>67.0</td>\n",
       "      <td>Yes</td>\n",
       "    </tr>\n",
       "    <tr>\n",
       "      <th>1234</th>\n",
       "      <td>125</td>\n",
       "      <td>281.0</td>\n",
       "      <td>Yes</td>\n",
       "      <td>21.0</td>\n",
       "      <td>65.0</td>\n",
       "      <td>110.0</td>\n",
       "      <td>No</td>\n",
       "    </tr>\n",
       "    <tr>\n",
       "      <th>1235</th>\n",
       "      <td>117</td>\n",
       "      <td>297.0</td>\n",
       "      <td>No</td>\n",
       "      <td>38.0</td>\n",
       "      <td>65.0</td>\n",
       "      <td>129.0</td>\n",
       "      <td>No</td>\n",
       "    </tr>\n",
       "  </tbody>\n",
       "</table>\n",
       "<p>1236 rows × 7 columns</p>\n",
       "</div>"
      ],
      "text/plain": [
       "      bwt  gestation parity   age  height  weight smoke\n",
       "0     120      284.0     No  27.0    62.0   100.0    No\n",
       "1     113      282.0     No  33.0    64.0   135.0    No\n",
       "2     128      279.0     No  28.0    64.0    77.0   Yes\n",
       "3     123        NaN     No  36.0    69.0   190.0    No\n",
       "4     108      282.0     No  23.0    67.0   125.0   Yes\n",
       "...   ...        ...    ...   ...     ...     ...   ...\n",
       "1231  113      275.0    Yes  27.0    60.0   100.0    No\n",
       "1232  128      265.0     No  24.0    67.0   120.0    No\n",
       "1233  130      291.0     No  30.0    65.0    67.0   Yes\n",
       "1234  125      281.0    Yes  21.0    65.0   110.0    No\n",
       "1235  117      297.0     No  38.0    65.0   129.0    No\n",
       "\n",
       "[1236 rows x 7 columns]"
      ]
     },
     "execution_count": 56,
     "metadata": {},
     "output_type": "execute_result"
    }
   ],
   "source": [
    "# replace a specific value in a specific column\n",
    "\n",
    "df.replace(1, \"Yes\", inplace = True)\n",
    "df.replace(0, \"No\", inplace = True)\n",
    "\n",
    "# check changes\n",
    "\n",
    "df"
   ]
  },
  {
   "cell_type": "markdown",
   "id": "6974eb82",
   "metadata": {},
   "source": [
    "6. Before we move forward with any statistics, let's identify and remove any outliers from the dataset. Using the IQR method, search for outliers in the 5 numeric variables. This will take some time and organization, be careful with your code! Make sure you keep track of how many rows/outliers are removed. "
   ]
  },
  {
   "cell_type": "code",
   "execution_count": 57,
   "id": "3070de25",
   "metadata": {},
   "outputs": [
    {
     "data": {
      "text/html": [
       "<div>\n",
       "<style scoped>\n",
       "    .dataframe tbody tr th:only-of-type {\n",
       "        vertical-align: middle;\n",
       "    }\n",
       "\n",
       "    .dataframe tbody tr th {\n",
       "        vertical-align: top;\n",
       "    }\n",
       "\n",
       "    .dataframe thead th {\n",
       "        text-align: right;\n",
       "    }\n",
       "</style>\n",
       "<table border=\"1\" class=\"dataframe\">\n",
       "  <thead>\n",
       "    <tr style=\"text-align: right;\">\n",
       "      <th></th>\n",
       "      <th>bwt</th>\n",
       "      <th>gestation</th>\n",
       "      <th>parity</th>\n",
       "      <th>age</th>\n",
       "      <th>height</th>\n",
       "      <th>weight</th>\n",
       "      <th>smoke</th>\n",
       "    </tr>\n",
       "  </thead>\n",
       "  <tbody>\n",
       "    <tr>\n",
       "      <th>0</th>\n",
       "      <td>False</td>\n",
       "      <td>False</td>\n",
       "      <td>False</td>\n",
       "      <td>False</td>\n",
       "      <td>False</td>\n",
       "      <td>False</td>\n",
       "      <td>False</td>\n",
       "    </tr>\n",
       "    <tr>\n",
       "      <th>1</th>\n",
       "      <td>False</td>\n",
       "      <td>False</td>\n",
       "      <td>False</td>\n",
       "      <td>False</td>\n",
       "      <td>False</td>\n",
       "      <td>False</td>\n",
       "      <td>False</td>\n",
       "    </tr>\n",
       "    <tr>\n",
       "      <th>2</th>\n",
       "      <td>False</td>\n",
       "      <td>False</td>\n",
       "      <td>False</td>\n",
       "      <td>False</td>\n",
       "      <td>False</td>\n",
       "      <td>False</td>\n",
       "      <td>False</td>\n",
       "    </tr>\n",
       "    <tr>\n",
       "      <th>3</th>\n",
       "      <td>False</td>\n",
       "      <td>True</td>\n",
       "      <td>False</td>\n",
       "      <td>False</td>\n",
       "      <td>False</td>\n",
       "      <td>False</td>\n",
       "      <td>False</td>\n",
       "    </tr>\n",
       "    <tr>\n",
       "      <th>4</th>\n",
       "      <td>False</td>\n",
       "      <td>False</td>\n",
       "      <td>False</td>\n",
       "      <td>False</td>\n",
       "      <td>False</td>\n",
       "      <td>False</td>\n",
       "      <td>False</td>\n",
       "    </tr>\n",
       "    <tr>\n",
       "      <th>...</th>\n",
       "      <td>...</td>\n",
       "      <td>...</td>\n",
       "      <td>...</td>\n",
       "      <td>...</td>\n",
       "      <td>...</td>\n",
       "      <td>...</td>\n",
       "      <td>...</td>\n",
       "    </tr>\n",
       "    <tr>\n",
       "      <th>1231</th>\n",
       "      <td>False</td>\n",
       "      <td>False</td>\n",
       "      <td>False</td>\n",
       "      <td>False</td>\n",
       "      <td>False</td>\n",
       "      <td>False</td>\n",
       "      <td>False</td>\n",
       "    </tr>\n",
       "    <tr>\n",
       "      <th>1232</th>\n",
       "      <td>False</td>\n",
       "      <td>False</td>\n",
       "      <td>False</td>\n",
       "      <td>False</td>\n",
       "      <td>False</td>\n",
       "      <td>False</td>\n",
       "      <td>False</td>\n",
       "    </tr>\n",
       "    <tr>\n",
       "      <th>1233</th>\n",
       "      <td>False</td>\n",
       "      <td>False</td>\n",
       "      <td>False</td>\n",
       "      <td>False</td>\n",
       "      <td>False</td>\n",
       "      <td>False</td>\n",
       "      <td>False</td>\n",
       "    </tr>\n",
       "    <tr>\n",
       "      <th>1234</th>\n",
       "      <td>False</td>\n",
       "      <td>False</td>\n",
       "      <td>False</td>\n",
       "      <td>False</td>\n",
       "      <td>False</td>\n",
       "      <td>False</td>\n",
       "      <td>False</td>\n",
       "    </tr>\n",
       "    <tr>\n",
       "      <th>1235</th>\n",
       "      <td>False</td>\n",
       "      <td>False</td>\n",
       "      <td>False</td>\n",
       "      <td>False</td>\n",
       "      <td>False</td>\n",
       "      <td>False</td>\n",
       "      <td>False</td>\n",
       "    </tr>\n",
       "  </tbody>\n",
       "</table>\n",
       "<p>1236 rows × 7 columns</p>\n",
       "</div>"
      ],
      "text/plain": [
       "        bwt  gestation  parity    age  height  weight  smoke\n",
       "0     False      False   False  False   False   False  False\n",
       "1     False      False   False  False   False   False  False\n",
       "2     False      False   False  False   False   False  False\n",
       "3     False       True   False  False   False   False  False\n",
       "4     False      False   False  False   False   False  False\n",
       "...     ...        ...     ...    ...     ...     ...    ...\n",
       "1231  False      False   False  False   False   False  False\n",
       "1232  False      False   False  False   False   False  False\n",
       "1233  False      False   False  False   False   False  False\n",
       "1234  False      False   False  False   False   False  False\n",
       "1235  False      False   False  False   False   False  False\n",
       "\n",
       "[1236 rows x 7 columns]"
      ]
     },
     "execution_count": 57,
     "metadata": {},
     "output_type": "execute_result"
    }
   ],
   "source": [
    "df.isnull()"
   ]
  },
  {
   "cell_type": "code",
   "execution_count": 58,
   "id": "d3351679",
   "metadata": {},
   "outputs": [
    {
     "data": {
      "text/plain": [
       "bwt           0\n",
       "gestation    13\n",
       "parity        0\n",
       "age           2\n",
       "height       22\n",
       "weight       36\n",
       "smoke        10\n",
       "dtype: int64"
      ]
     },
     "execution_count": 58,
     "metadata": {},
     "output_type": "execute_result"
    }
   ],
   "source": [
    "df.isnull().sum()"
   ]
  },
  {
   "cell_type": "code",
   "execution_count": 59,
   "id": "2f450b5e",
   "metadata": {},
   "outputs": [
    {
     "name": "stdout",
     "output_type": "stream",
     "text": [
      "<class 'pandas.core.frame.DataFrame'>\n",
      "RangeIndex: 1236 entries, 0 to 1235\n",
      "Data columns (total 7 columns):\n",
      " #   Column     Non-Null Count  Dtype  \n",
      "---  ------     --------------  -----  \n",
      " 0   bwt        1236 non-null   int64  \n",
      " 1   gestation  1223 non-null   float64\n",
      " 2   parity     1236 non-null   object \n",
      " 3   age        1234 non-null   float64\n",
      " 4   height     1214 non-null   float64\n",
      " 5   weight     1200 non-null   float64\n",
      " 6   smoke      1226 non-null   object \n",
      "dtypes: float64(4), int64(1), object(2)\n",
      "memory usage: 67.7+ KB\n"
     ]
    }
   ],
   "source": [
    "df.info()"
   ]
  },
  {
   "cell_type": "markdown",
   "id": "92b59a17",
   "metadata": {},
   "source": [
    "7. Describe the characteristics of your qualitative variables by doing the following:\n",
    "\n",
    "    * Determine the frequencies of each group within each categorical variable. Which groups have the highest frequency?\n",
    "    * Determine the relative frequencies of each group within each categorical variable. Which groups have the highest relative frequencies?\n",
    "    * Create a crosstab table using both the categorical variables in your dataset. How many mothers are smokers who have been pregnant before?"
   ]
  },
  {
   "cell_type": "code",
   "execution_count": 60,
   "id": "371d5497",
   "metadata": {},
   "outputs": [
    {
     "data": {
      "text/plain": [
       "115    36\n",
       "117    35\n",
       "129    34\n",
       "123    33\n",
       "120    31\n",
       "       ..\n",
       "166     1\n",
       "69      1\n",
       "161     1\n",
       "176     1\n",
       "167     1\n",
       "Name: bwt, Length: 107, dtype: int64"
      ]
     },
     "execution_count": 60,
     "metadata": {},
     "output_type": "execute_result"
    }
   ],
   "source": [
    "## bwt 115 has the highst Frequencies of 36 \n",
    "\n",
    "df[\"bwt\"].value_counts()\n"
   ]
  },
  {
   "cell_type": "code",
   "execution_count": 61,
   "id": "5d0a5e34",
   "metadata": {},
   "outputs": [
    {
     "data": {
      "text/plain": [
       "115    0.029126\n",
       "117    0.028317\n",
       "129    0.027508\n",
       "123    0.026699\n",
       "120    0.025081\n",
       "         ...   \n",
       "166    0.000809\n",
       "69     0.000809\n",
       "161    0.000809\n",
       "176    0.000809\n",
       "167    0.000809\n",
       "Name: bwt, Length: 107, dtype: float64"
      ]
     },
     "execution_count": 61,
     "metadata": {},
     "output_type": "execute_result"
    }
   ],
   "source": [
    "\n",
    "## Relative Frequencies \n",
    "\n",
    "df[\"bwt\"].value_counts(normalize=True)"
   ]
  },
  {
   "cell_type": "code",
   "execution_count": 62,
   "id": "13081a25",
   "metadata": {},
   "outputs": [
    {
     "data": {
      "text/plain": [
       "282.0    48\n",
       "278.0    44\n",
       "280.0    44\n",
       "277.0    42\n",
       "281.0    42\n",
       "         ..\n",
       "310.0     1\n",
       "320.0     1\n",
       "239.0     1\n",
       "243.0     1\n",
       "321.0     1\n",
       "Name: gestation, Length: 106, dtype: int64"
      ]
     },
     "execution_count": 62,
     "metadata": {},
     "output_type": "execute_result"
    }
   ],
   "source": [
    "## gestation 282.0 has the highst Frequencies of 48\n",
    "\n",
    "df[\"gestation\"].value_counts()"
   ]
  },
  {
   "cell_type": "code",
   "execution_count": 63,
   "id": "885c4def",
   "metadata": {},
   "outputs": [
    {
     "data": {
      "text/plain": [
       "282.0    0.039248\n",
       "278.0    0.035977\n",
       "280.0    0.035977\n",
       "277.0    0.034342\n",
       "281.0    0.034342\n",
       "           ...   \n",
       "310.0    0.000818\n",
       "320.0    0.000818\n",
       "239.0    0.000818\n",
       "243.0    0.000818\n",
       "321.0    0.000818\n",
       "Name: gestation, Length: 106, dtype: float64"
      ]
     },
     "execution_count": 63,
     "metadata": {},
     "output_type": "execute_result"
    }
   ],
   "source": [
    "\n",
    "## Relative Frequencies \n",
    "\n",
    "df[\"gestation\"].value_counts(normalize=True)"
   ]
  },
  {
   "cell_type": "code",
   "execution_count": 64,
   "id": "0cc9de2d",
   "metadata": {},
   "outputs": [
    {
     "data": {
      "text/plain": [
       "No     921\n",
       "Yes    315\n",
       "Name: parity, dtype: int64"
      ]
     },
     "execution_count": 64,
     "metadata": {},
     "output_type": "execute_result"
    }
   ],
   "source": [
    "# parity no has the highst Frequencies of 921\n",
    "\n",
    "df[\"parity\"].value_counts()"
   ]
  },
  {
   "cell_type": "code",
   "execution_count": 65,
   "id": "41df0753",
   "metadata": {},
   "outputs": [
    {
     "data": {
      "text/plain": [
       "No     0.745146\n",
       "Yes    0.254854\n",
       "Name: parity, dtype: float64"
      ]
     },
     "execution_count": 65,
     "metadata": {},
     "output_type": "execute_result"
    }
   ],
   "source": [
    "\n",
    "## Relative Frequencies \n",
    "\n",
    "df[\"parity\"].value_counts(normalize=True)"
   ]
  },
  {
   "cell_type": "code",
   "execution_count": 66,
   "id": "f22f013f",
   "metadata": {},
   "outputs": [
    {
     "data": {
      "text/plain": [
       "23.0    93\n",
       "26.0    90\n",
       "24.0    86\n",
       "27.0    85\n",
       "22.0    79\n",
       "25.0    77\n",
       "28.0    70\n",
       "21.0    67\n",
       "29.0    66\n",
       "30.0    63\n",
       "20.0    58\n",
       "19.0    53\n",
       "31.0    46\n",
       "33.0    42\n",
       "32.0    39\n",
       "34.0    33\n",
       "35.0    30\n",
       "37.0    29\n",
       "36.0    26\n",
       "39.0    24\n",
       "38.0    18\n",
       "18.0    15\n",
       "41.0    14\n",
       "40.0    11\n",
       "17.0     7\n",
       "43.0     6\n",
       "42.0     4\n",
       "15.0     1\n",
       "44.0     1\n",
       "45.0     1\n",
       "Name: age, dtype: int64"
      ]
     },
     "execution_count": 66,
     "metadata": {},
     "output_type": "execute_result"
    }
   ],
   "source": [
    "## age 23 has the highest Frequencies of 93 \n",
    "\n",
    "df[\"age\"].value_counts()"
   ]
  },
  {
   "cell_type": "code",
   "execution_count": 67,
   "id": "b0f2bd90",
   "metadata": {},
   "outputs": [
    {
     "data": {
      "text/plain": [
       "23.0    0.075365\n",
       "26.0    0.072934\n",
       "24.0    0.069692\n",
       "27.0    0.068882\n",
       "22.0    0.064019\n",
       "25.0    0.062399\n",
       "28.0    0.056726\n",
       "21.0    0.054295\n",
       "29.0    0.053485\n",
       "30.0    0.051053\n",
       "20.0    0.047002\n",
       "19.0    0.042950\n",
       "31.0    0.037277\n",
       "33.0    0.034036\n",
       "32.0    0.031605\n",
       "34.0    0.026742\n",
       "35.0    0.024311\n",
       "37.0    0.023501\n",
       "36.0    0.021070\n",
       "39.0    0.019449\n",
       "38.0    0.014587\n",
       "18.0    0.012156\n",
       "41.0    0.011345\n",
       "40.0    0.008914\n",
       "17.0    0.005673\n",
       "43.0    0.004862\n",
       "42.0    0.003241\n",
       "15.0    0.000810\n",
       "44.0    0.000810\n",
       "45.0    0.000810\n",
       "Name: age, dtype: float64"
      ]
     },
     "execution_count": 67,
     "metadata": {},
     "output_type": "execute_result"
    }
   ],
   "source": [
    "\n",
    "## Relative Frequencies \n",
    "\n",
    "df[\"age\"].value_counts(normalize=True)"
   ]
  },
  {
   "cell_type": "code",
   "execution_count": 68,
   "id": "692bac0c",
   "metadata": {},
   "outputs": [
    {
     "data": {
      "text/plain": [
       "64.0    183\n",
       "65.0    182\n",
       "63.0    166\n",
       "66.0    153\n",
       "62.0    131\n",
       "67.0    105\n",
       "61.0    105\n",
       "60.0     55\n",
       "68.0     54\n",
       "59.0     26\n",
       "69.0     20\n",
       "70.0     13\n",
       "58.0     10\n",
       "71.0      6\n",
       "56.0      1\n",
       "72.0      1\n",
       "53.0      1\n",
       "57.0      1\n",
       "54.0      1\n",
       "Name: height, dtype: int64"
      ]
     },
     "execution_count": 68,
     "metadata": {},
     "output_type": "execute_result"
    }
   ],
   "source": [
    "#  height 64 has the highst Frequencies of 183\n",
    "\n",
    "df[\"height\"].value_counts()"
   ]
  },
  {
   "cell_type": "code",
   "execution_count": 69,
   "id": "f1b3eb0d",
   "metadata": {},
   "outputs": [
    {
     "data": {
      "text/plain": [
       "64.0    0.150741\n",
       "65.0    0.149918\n",
       "63.0    0.136738\n",
       "66.0    0.126030\n",
       "62.0    0.107908\n",
       "67.0    0.086491\n",
       "61.0    0.086491\n",
       "60.0    0.045305\n",
       "68.0    0.044481\n",
       "59.0    0.021417\n",
       "69.0    0.016474\n",
       "70.0    0.010708\n",
       "58.0    0.008237\n",
       "71.0    0.004942\n",
       "56.0    0.000824\n",
       "72.0    0.000824\n",
       "53.0    0.000824\n",
       "57.0    0.000824\n",
       "54.0    0.000824\n",
       "Name: height, dtype: float64"
      ]
     },
     "execution_count": 69,
     "metadata": {},
     "output_type": "execute_result"
    }
   ],
   "source": [
    "\n",
    "## Relative Frequencies \n",
    "\n",
    "df[\"height\"].value_counts(normalize=True)"
   ]
  },
  {
   "cell_type": "code",
   "execution_count": 70,
   "id": "a8eefc96",
   "metadata": {},
   "outputs": [
    {
     "data": {
      "text/plain": [
       "130.0    77\n",
       "125.0    68\n",
       "110.0    64\n",
       "135.0    62\n",
       "120.0    54\n",
       "         ..\n",
       "845.0     1\n",
       "399.0     1\n",
       "197.0     1\n",
       "171.0     1\n",
       "67.0      1\n",
       "Name: weight, Length: 116, dtype: int64"
      ]
     },
     "execution_count": 70,
     "metadata": {},
     "output_type": "execute_result"
    }
   ],
   "source": [
    "## weight 130.0 has the highest Frequencies of 77\n",
    "\n",
    "df[\"weight\"].value_counts()"
   ]
  },
  {
   "cell_type": "code",
   "execution_count": 71,
   "id": "9e1a4af3",
   "metadata": {},
   "outputs": [
    {
     "data": {
      "text/plain": [
       "130.0    0.064167\n",
       "125.0    0.056667\n",
       "110.0    0.053333\n",
       "135.0    0.051667\n",
       "120.0    0.045000\n",
       "           ...   \n",
       "845.0    0.000833\n",
       "399.0    0.000833\n",
       "197.0    0.000833\n",
       "171.0    0.000833\n",
       "67.0     0.000833\n",
       "Name: weight, Length: 116, dtype: float64"
      ]
     },
     "execution_count": 71,
     "metadata": {},
     "output_type": "execute_result"
    }
   ],
   "source": [
    "\n",
    "## Relative Frequencies \n",
    "\n",
    "df[\"weight\"].value_counts(normalize=True)"
   ]
  },
  {
   "cell_type": "code",
   "execution_count": 72,
   "id": "6d94568e",
   "metadata": {},
   "outputs": [
    {
     "data": {
      "text/plain": [
       "No     742\n",
       "Yes    484\n",
       "Name: smoke, dtype: int64"
      ]
     },
     "execution_count": 72,
     "metadata": {},
     "output_type": "execute_result"
    }
   ],
   "source": [
    "## smoke no has the highest Frequencies 742\n",
    "\n",
    "df[\"smoke\"].value_counts()"
   ]
  },
  {
   "cell_type": "code",
   "execution_count": 73,
   "id": "7b62892e",
   "metadata": {},
   "outputs": [
    {
     "data": {
      "text/plain": [
       "No     0.60522\n",
       "Yes    0.39478\n",
       "Name: smoke, dtype: float64"
      ]
     },
     "execution_count": 73,
     "metadata": {},
     "output_type": "execute_result"
    }
   ],
   "source": [
    "\n",
    "## Relative Frequencies \n",
    "\n",
    "df[\"smoke\"].value_counts(normalize=True)"
   ]
  },
  {
   "cell_type": "code",
   "execution_count": 74,
   "id": "f4a61665",
   "metadata": {},
   "outputs": [
    {
     "data": {
      "text/html": [
       "<div>\n",
       "<style scoped>\n",
       "    .dataframe tbody tr th:only-of-type {\n",
       "        vertical-align: middle;\n",
       "    }\n",
       "\n",
       "    .dataframe tbody tr th {\n",
       "        vertical-align: top;\n",
       "    }\n",
       "\n",
       "    .dataframe thead th {\n",
       "        text-align: right;\n",
       "    }\n",
       "</style>\n",
       "<table border=\"1\" class=\"dataframe\">\n",
       "  <thead>\n",
       "    <tr style=\"text-align: right;\">\n",
       "      <th>parity</th>\n",
       "      <th>No</th>\n",
       "      <th>Yes</th>\n",
       "      <th>All</th>\n",
       "    </tr>\n",
       "    <tr>\n",
       "      <th>smoke</th>\n",
       "      <th></th>\n",
       "      <th></th>\n",
       "      <th></th>\n",
       "    </tr>\n",
       "  </thead>\n",
       "  <tbody>\n",
       "    <tr>\n",
       "      <th>No</th>\n",
       "      <td>548</td>\n",
       "      <td>194</td>\n",
       "      <td>742</td>\n",
       "    </tr>\n",
       "    <tr>\n",
       "      <th>Yes</th>\n",
       "      <td>363</td>\n",
       "      <td>121</td>\n",
       "      <td>484</td>\n",
       "    </tr>\n",
       "    <tr>\n",
       "      <th>All</th>\n",
       "      <td>911</td>\n",
       "      <td>315</td>\n",
       "      <td>1226</td>\n",
       "    </tr>\n",
       "  </tbody>\n",
       "</table>\n",
       "</div>"
      ],
      "text/plain": [
       "parity   No  Yes   All\n",
       "smoke                 \n",
       "No      548  194   742\n",
       "Yes     363  121   484\n",
       "All     911  315  1226"
      ]
     },
     "execution_count": 74,
     "metadata": {},
     "output_type": "execute_result"
    }
   ],
   "source": [
    "# How many mothers are smokers who have been pregnant before? 121\n",
    "\n",
    "pd.crosstab(df[\"smoke\"], df[\"parity\"], margins = True)\n"
   ]
  }
 ],
 "metadata": {
  "kernelspec": {
   "display_name": "Python 3 (ipykernel)",
   "language": "python",
   "name": "python3"
  },
  "language_info": {
   "codemirror_mode": {
    "name": "ipython",
    "version": 3
   },
   "file_extension": ".py",
   "mimetype": "text/x-python",
   "name": "python",
   "nbconvert_exporter": "python",
   "pygments_lexer": "ipython3",
   "version": "3.9.13"
  }
 },
 "nbformat": 4,
 "nbformat_minor": 5
}
